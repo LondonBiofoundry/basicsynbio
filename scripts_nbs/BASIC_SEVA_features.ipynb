{
 "cells": [
  {
   "cell_type": "markdown",
   "metadata": {
    "tags": []
   },
   "source": [
    "# Features for BASIC SEVA plasmids\n",
    "\n",
    "## Aims and objectives\n",
    "\n",
    "- [x] Remove features from [BASIC_SEVA genbank files](/sequences/genbank_files/BASIC_SEVA_collection).\n",
    "- [x] Remove constructs containing p15a origin of replication as contains a \"t\" insertion.\n",
    "- [x] Auto-annotate genbank files using benchling.\n",
    "- [x] Remove color annotations and add description.\n",
    "- [ ] Upload genbank files to JBEI-ICE."
   ]
  },
  {
   "cell_type": "code",
   "execution_count": 1,
   "metadata": {},
   "outputs": [],
   "source": [
    "from Bio import SeqIO\n",
    "from pathlib import Path\n",
    "from basicsynbio.main import DEFAULT_ANNOTATIONS\n",
    "import csv\n"
   ]
  },
  {
   "cell_type": "code",
   "execution_count": 4,
   "metadata": {
    "tags": []
   },
   "outputs": [
    {
     "output_type": "execute_result",
     "data": {
      "text/plain": "42"
     },
     "metadata": {},
     "execution_count": 4
    }
   ],
   "source": [
    "BSEVA_DIR_INIT = Path.cwd().parent / \"sequences\" / \"genbank_files\" / \"BASIC_SEVA_collection\" / \"initial_files\"\n",
    "bseva_seqrecs = []\n",
    "for gb_file in (BSEVA_DIR_INIT).iterdir():\n",
    "    # Don't import genbank files with 2nd digit = 6. Avoid processing p15a oris.\n",
    "    if \"BASIC_SEVA_no_annotations.gb\" not in gb_file.name and int(gb_file.name[-4]) != 6:\n",
    "        seqrec = SeqIO.read(gb_file, \"genbank\")\n",
    "        seqrec.features = []\n",
    "        seqrec.annotations = DEFAULT_ANNOTATIONS\n",
    "        seqrec.id = \"BASIC_\" + seqrec.id\n",
    "        seqrec.name = seqrec.id\n",
    "        bseva_seqrecs.append(seqrec)\n",
    "SeqIO.write(bseva_seqrecs, BSEVA_DIR_INIT / \"BASIC_SEVA_no_annotations.gb\", \"genbank\")"
   ]
  },
  {
   "cell_type": "markdown",
   "metadata": {},
   "source": [
    "## Objective for cell below\n",
    "\n",
    "Remove color annotations and add description"
   ]
  },
  {
   "cell_type": "code",
   "execution_count": 5,
   "metadata": {
    "tags": []
   },
   "outputs": [],
   "source": [
    "MARKER_DICT = {\n",
    "    \"1\": \"Ampicillin\",\n",
    "    \"2\": \"Kanamycin\",\n",
    "    \"3\": \"Chloramphenicol\",\n",
    "    \"4\": \"Streptomycin\",\n",
    "    \"5\": \"Tetracycline\",\n",
    "    \"6\": \"Gentamicin\"\n",
    "}\n",
    "ORI_DICT = {\n",
    "    \"2\": \"RK2\",\n",
    "    \"3\": \"pBBR1\",\n",
    "    \"4\": \"pRO1600/ColE1\",\n",
    "    \"5\": \"RSF1010\",\n",
    "    \"6\": \"p15A\",\n",
    "    \"7\": \"pSC101\",\n",
    "    \"8\": \"pUC\",\n",
    "    \"9\": \"pBR322-ROP\"\n",
    "}\n",
    "\n",
    "\n",
    "def bseva_description(seqrec):\n",
    "    \"\"\"Generate string describing BASIC_SEVA collection member.\"\"\"\n",
    "    return f\"BASIC SEVA vector containing {MARKER_DICT[seqrec.id[-2]]} resistance marker and {ORI_DICT[seqrec.id[-1]]} origin of replication.\"\n",
    "\n",
    "seqrecs = []      \n",
    "for gb_file in BSEVA_DIR_INIT.parent.iterdir():\n",
    "    if gb_file.is_file and gb_file.name[-4].isdigit():\n",
    "        seqrec = SeqIO.read(gb_file, \"genbank\")\n",
    "        seqrec.description = bseva_description(seqrec)\n",
    "        for feature in seqrec.features:\n",
    "            feature.qualifiers = {\"label\": feature.qualifiers[\"label\"]}\n",
    "        seqrecs.append(seqrec)\n",
    "        SeqIO.write(seqrec, gb_file, \"genbank\")"
   ]
  },
  {
   "cell_type": "markdown",
   "metadata": {},
   "source": [
    "## Objectives for cell below\n",
    "\n",
    "Generate a csv file for submission of genbank files to JBEI-ICE."
   ]
  },
  {
   "cell_type": "code",
   "execution_count": 10,
   "metadata": {
    "tags": []
   },
   "outputs": [],
   "source": [
    "def jbei_ice_record(seqrec, \n",
    "pi=\"Paul Freemont\",\n",
    "creator = \"Matthew C Haines\",\n",
    "creator_email = \"mh2210@ic.ac.uk\",\n",
    "status = \"In Progress\",\n",
    "biosafety = \"Level 1\",\n",
    "host = \"E. coli\",\n",
    "circular = \"true\"\n",
    "):\n",
    "    \"\"\"Accepts a seqrec and metainformation and returns a list of elements corresponding to a record in a JBEI-ICE csv submission file.\"\"\"\n",
    "    return [pi, \"\", \"\", \"\", biosafety, seqrec.id, \"\", \"\", seqrec.description, \"\", \"\", \"\", status, creator, creator_email, circular, \"\", \"\", host, ORI_DICT[seqrec.id[-1]], MARKER_DICT[seqrec.id[-2]], \"\", seqrec.id + \".gb\", \"\"]\n",
    "\n",
    "\n",
    "jbei_ice_dir = Path.cwd().parent / \"jbei-ice_submissions\"\n",
    "with open(jbei_ice_dir / \"jbei-ice_plasmid_csv_upload.csv\", \"r\", newline=\"\") as template_file:\n",
    "    with open(jbei_ice_dir / \"2020-07-13_jbei-ice_submission\" / \"2020-07-13_jbei-ice_submission.csv\", \"w\", newline=\"\") as submission_file:\n",
    "        csv_reader = csv.reader(template_file)\n",
    "        csv_writer = csv.writer(submission_file)\n",
    "        for row in csv_reader:\n",
    "            csv_writer.writerow(row)\n",
    "        for seqrec in seqrecs:\n",
    "            csv_writer.writerow(jbei_ice_record(seqrec))\n",
    "\n",
    "\n",
    "\n"
   ]
  }
 ],
 "metadata": {
  "language_info": {
   "codemirror_mode": {
    "name": "ipython",
    "version": 3
   },
   "file_extension": ".py",
   "mimetype": "text/x-python",
   "name": "python",
   "nbconvert_exporter": "python",
   "pygments_lexer": "ipython3",
   "version": "3.8.2-final"
  },
  "orig_nbformat": 2,
  "kernelspec": {
   "name": "python38264bitbasicsynbiovenva81c6f715e874c7789e1ea548d1fbb23",
   "display_name": "Python 3.8.2 64-bit ('basicsynbio': venv)"
  }
 },
 "nbformat": 4,
 "nbformat_minor": 2
}