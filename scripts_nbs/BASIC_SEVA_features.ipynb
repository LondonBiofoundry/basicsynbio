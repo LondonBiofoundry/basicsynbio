{
 "cells": [
  {
   "cell_type": "markdown",
   "metadata": {
    "tags": []
   },
   "source": [
    "# Features for BASIC SEVA plasmids\n",
    "\n",
    "## Aims and objectives\n",
    "\n",
    "- [x] Remove features from [BASIC_SEVA genbank files](/sequences/genbank_files/BASIC_SEVA_collection).\n",
    "- [x] Remove constructs containing p15a origin of replication as contains a \"t\" insertion.\n",
    "- [x] Auto-annotate genbank files using benchling.\n",
    "- [x] Remove color annotations and add description.\n",
    "- [x] Upload genbank files to JBEI-ICE.\n",
    "- [ ] Generate a dictionary linking Part ID numbers to SEVA nomenclature."
   ]
  },
  {
   "cell_type": "code",
   "execution_count": 26,
   "metadata": {},
   "outputs": [],
   "source": [
    "from Bio import SeqIO\n",
    "from pathlib import Path\n",
    "from basicsynbio.main import DEFAULT_ANNOTATIONS\n",
    "import csv\n"
   ]
  },
  {
   "cell_type": "code",
   "execution_count": 31,
   "metadata": {
    "tags": []
   },
   "outputs": [
    {
     "output_type": "execute_result",
     "data": {
      "text/plain": "42"
     },
     "metadata": {},
     "execution_count": 31
    }
   ],
   "source": [
    "BSEVA_DIR_INIT = Path.cwd().parent / \"sequences\" / \"genbank_files\" / \"BASIC_SEVA_collection\" / \"initial_files\"\n",
    "bseva_seqrecs = []\n",
    "for gb_file in (BSEVA_DIR_INIT).iterdir():\n",
    "    # Don't import genbank files with 2nd digit = 6. Avoid processing p15a oris.\n",
    "    if \"BASIC_SEVA_no_annotations.gb\" not in gb_file.name and int(gb_file.name[-4]) != 6:\n",
    "        seqrec = SeqIO.read(gb_file, \"genbank\")\n",
    "        seqrec.features = []\n",
    "        seqrec.annotations = DEFAULT_ANNOTATIONS\n",
    "        seqrec.id = \"BASIC_\" + seqrec.id\n",
    "        seqrec.name = seqrec.id\n",
    "        bseva_seqrecs.append(seqrec)\n",
    "SeqIO.write(bseva_seqrecs, BSEVA_DIR_INIT / \"BASIC_SEVA_no_annotations.gb\", \"genbank\")"
   ]
  },
  {
   "cell_type": "markdown",
   "metadata": {},
   "source": [
    "## Objective for cell below\n",
    "\n",
    "Remove color annotations and add description"
   ]
  },
  {
   "cell_type": "code",
   "execution_count": 38,
   "metadata": {
    "tags": []
   },
   "outputs": [],
   "source": [
    "MARKER_DICT = {\n",
    "    \"1\": \"Ampicillin\",\n",
    "    \"2\": \"Kanamycin\",\n",
    "    \"3\": \"Chloramphenicol\",\n",
    "    \"4\": \"Streptomycin\",\n",
    "    \"5\": \"Tetracycline\",\n",
    "    \"6\": \"Gentamicin\"\n",
    "}\n",
    "ORI_DICT = {\n",
    "    \"2\": \"RK2\",\n",
    "    \"3\": \"pBBR1\",\n",
    "    \"4\": \"pRO1600/ColE1\",\n",
    "    \"5\": \"RSF1010\",\n",
    "    \"6\": \"p15A\",\n",
    "    \"7\": \"pSC101\",\n",
    "    \"8\": \"pUC\",\n",
    "    \"9\": \"pBR322-ROP\"\n",
    "}\n",
    "\n",
    "\n",
    "def bseva_description(seqrec):\n",
    "    \"\"\"Generate string describing BASIC_SEVA collection member.\"\"\"\n",
    "    return f\"BASIC SEVA vector containing {MARKER_DICT[seqrec.id[-2]]} resistance marker and {ORI_DICT[seqrec.id[-1]]} origin of replication.\"\n",
    "\n",
    "seqrecs = []\n",
    "path_to_gbs = Path.cwd().parent / \"basicsynbio\" / \"parts_linkers\"   \n",
    "for gb_file in path_to_gbs.iterdir():\n",
    "    if gb_file.is_file and gb_file.name[-4].isdigit():\n",
    "        seqrec = SeqIO.read(gb_file, \"genbank\")\n",
    "        seqrec.description = bseva_description(seqrec)\n",
    "        for feature in seqrec.features:\n",
    "            feature.qualifiers = {\"label\": feature.qualifiers[\"label\"]}\n",
    "        seqrecs.append(seqrec)\n",
    "        SeqIO.write(seqrec, gb_file, \"genbank\")"
   ]
  },
  {
   "cell_type": "markdown",
   "metadata": {},
   "source": [
    "## Objectives for cell below\n",
    "\n",
    "Generate a csv file for submission of genbank files to JBEI-ICE."
   ]
  },
  {
   "cell_type": "code",
   "execution_count": 36,
   "metadata": {
    "tags": []
   },
   "outputs": [
    {
     "output_type": "error",
     "ename": "FileNotFoundError",
     "evalue": "[Errno 2] No such file or directory: '/mnt/c/Users/haine/github_repos/LondonBiofoundry/basicsynbio/jbei-ice_submissions/2020-07-13_jbei-ice_submission/2020-07-13_jbei-ice_submission.csv'",
     "traceback": [
      "\u001b[0;31m---------------------------------------------------------------------------\u001b[0m",
      "\u001b[0;31mFileNotFoundError\u001b[0m                         Traceback (most recent call last)",
      "\u001b[0;32m<ipython-input-36-779614c3a475>\u001b[0m in \u001b[0;36m<module>\u001b[0;34m\u001b[0m\n\u001b[1;32m     14\u001b[0m \u001b[0mjbei_ice_dir\u001b[0m \u001b[0;34m=\u001b[0m \u001b[0mPath\u001b[0m\u001b[0;34m.\u001b[0m\u001b[0mcwd\u001b[0m\u001b[0;34m(\u001b[0m\u001b[0;34m)\u001b[0m\u001b[0;34m.\u001b[0m\u001b[0mparent\u001b[0m \u001b[0;34m/\u001b[0m \u001b[0;34m\"jbei-ice_submissions\"\u001b[0m\u001b[0;34m\u001b[0m\u001b[0;34m\u001b[0m\u001b[0m\n\u001b[1;32m     15\u001b[0m \u001b[0;32mwith\u001b[0m \u001b[0mopen\u001b[0m\u001b[0;34m(\u001b[0m\u001b[0mjbei_ice_dir\u001b[0m \u001b[0;34m/\u001b[0m \u001b[0;34m\"jbei-ice_plasmid_csv_upload.csv\"\u001b[0m\u001b[0;34m,\u001b[0m \u001b[0;34m\"r\"\u001b[0m\u001b[0;34m,\u001b[0m \u001b[0mnewline\u001b[0m\u001b[0;34m=\u001b[0m\u001b[0;34m\"\"\u001b[0m\u001b[0;34m)\u001b[0m \u001b[0;32mas\u001b[0m \u001b[0mtemplate_file\u001b[0m\u001b[0;34m:\u001b[0m\u001b[0;34m\u001b[0m\u001b[0;34m\u001b[0m\u001b[0m\n\u001b[0;32m---> 16\u001b[0;31m     \u001b[0;32mwith\u001b[0m \u001b[0mopen\u001b[0m\u001b[0;34m(\u001b[0m\u001b[0mjbei_ice_dir\u001b[0m \u001b[0;34m/\u001b[0m \u001b[0;34m\"2020-07-13_jbei-ice_submission\"\u001b[0m \u001b[0;34m/\u001b[0m \u001b[0;34m\"2020-07-13_jbei-ice_submission.csv\"\u001b[0m\u001b[0;34m,\u001b[0m \u001b[0;34m\"w\"\u001b[0m\u001b[0;34m,\u001b[0m \u001b[0mnewline\u001b[0m\u001b[0;34m=\u001b[0m\u001b[0;34m\"\"\u001b[0m\u001b[0;34m)\u001b[0m \u001b[0;32mas\u001b[0m \u001b[0msubmission_file\u001b[0m\u001b[0;34m:\u001b[0m\u001b[0;34m\u001b[0m\u001b[0;34m\u001b[0m\u001b[0m\n\u001b[0m\u001b[1;32m     17\u001b[0m         \u001b[0mcsv_reader\u001b[0m \u001b[0;34m=\u001b[0m \u001b[0mcsv\u001b[0m\u001b[0;34m.\u001b[0m\u001b[0mreader\u001b[0m\u001b[0;34m(\u001b[0m\u001b[0mtemplate_file\u001b[0m\u001b[0;34m)\u001b[0m\u001b[0;34m\u001b[0m\u001b[0;34m\u001b[0m\u001b[0m\n\u001b[1;32m     18\u001b[0m         \u001b[0mcsv_writer\u001b[0m \u001b[0;34m=\u001b[0m \u001b[0mcsv\u001b[0m\u001b[0;34m.\u001b[0m\u001b[0mwriter\u001b[0m\u001b[0;34m(\u001b[0m\u001b[0msubmission_file\u001b[0m\u001b[0;34m)\u001b[0m\u001b[0;34m\u001b[0m\u001b[0;34m\u001b[0m\u001b[0m\n",
      "\u001b[0;31mFileNotFoundError\u001b[0m: [Errno 2] No such file or directory: '/mnt/c/Users/haine/github_repos/LondonBiofoundry/basicsynbio/jbei-ice_submissions/2020-07-13_jbei-ice_submission/2020-07-13_jbei-ice_submission.csv'"
     ]
    }
   ],
   "source": [
    "def jbei_ice_record(seqrec, \n",
    "pi=\"Paul Freemont\",\n",
    "creator = \"Matthew C Haines\",\n",
    "creator_email = \"mh2210@ic.ac.uk\",\n",
    "status = \"In Progress\",\n",
    "biosafety = \"Level 1\",\n",
    "host = \"E. coli\",\n",
    "circular = \"true\"\n",
    "):\n",
    "    \"\"\"Accepts a seqrec and metainformation and returns a list of elements corresponding to a record in a JBEI-ICE csv submission file.\"\"\"\n",
    "    return [pi, \"\", \"\", \"\", biosafety, seqrec.id, \"\", \"\", seqrec.description, \"\", \"\", \"\", status, creator, creator_email, circular, \"\", \"\", host, ORI_DICT[seqrec.id[-1]], MARKER_DICT[seqrec.id[-2]], \"\", seqrec.id + \".gb\", \"\"]\n",
    "\n",
    "\n",
    "jbei_ice_dir = Path.cwd().parent / \"jbei-ice_submissions\"\n",
    "with open(jbei_ice_dir / \"jbei-ice_plasmid_csv_upload.csv\", \"r\", newline=\"\") as template_file:\n",
    "    with open(jbei_ice_dir / \"2020-07-13_jbei-ice_submission\" / \"2020-07-13_jbei-ice_submission.csv\", \"w\", newline=\"\") as submission_file:\n",
    "        csv_reader = csv.reader(template_file)\n",
    "        csv_writer = csv.writer(submission_file)\n",
    "        for row in csv_reader:\n",
    "            csv_writer.writerow(row)\n",
    "        for seqrec in seqrecs:\n",
    "            csv_writer.writerow(jbei_ice_record(seqrec))"
   ]
  },
  {
   "cell_type": "markdown",
   "metadata": {},
   "source": [
    "## Objectives for cell below\n",
    "\n",
    "Generate a dictionary linking Part ID numbers to SEVA nomenclature."
   ]
  },
  {
   "cell_type": "code",
   "execution_count": 34,
   "metadata": {
    "tags": []
   },
   "outputs": [],
   "source": [
    "\n",
    "seva_ind = 12\n",
    "ice_py_loc = Path.cwd().parent / \"basicsynbio\" / \"parts_linkers\" / \"ice.py\"\n",
    "with open(ice_py_loc, \"w\") as ice_py_file:\n",
    "    ice_py_file.write(\"BSEVA_ICE_DICT = {\\n\")\n",
    "    for ind in range(42):\n",
    "        ice_num = 17297 + ind\n",
    "        while str(seva_ind)[-1] in [str(num) for num in [0, 1, 6]]:\n",
    "            seva_ind += 1\n",
    "        ice_py_file.write(f\"    \\\"{seva_ind}\\\": \\\"{ice_num}\\\",\\n\")\n",
    "        seva_ind += 1\n",
    "    ice_py_file.write(\"}\")\n"
   ]
  }
 ],
 "metadata": {
  "language_info": {
   "codemirror_mode": {
    "name": "ipython",
    "version": 3
   },
   "file_extension": ".py",
   "mimetype": "text/x-python",
   "name": "python",
   "nbconvert_exporter": "python",
   "pygments_lexer": "ipython3",
   "version": "3.8.2-final"
  },
  "orig_nbformat": 2,
  "kernelspec": {
   "name": "python38264bitbasicsynbiovenva81c6f715e874c7789e1ea548d1fbb23",
   "display_name": "Python 3.8.2 64-bit ('basicsynbio': venv)"
  }
 },
 "nbformat": 4,
 "nbformat_minor": 2
}