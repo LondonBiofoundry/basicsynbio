{
 "cells": [
  {
   "cell_type": "markdown",
   "source": [
    "# Features for BASIC SEVA plasmids\n",
    "\n",
    "## Aims and objectives\n",
    "\n",
    "- [x] Alter constructs with p15A ori to contain that given by SEVA. Initial files containing this ori have a \"t\" insertion.\n",
    "- [x] Remove features from [BASIC_SEVA genbank files](/sequences/genbank_files/BASIC_SEVA_collection).\n",
    "- [x] Auto-annotate genbank files using [benchling feature library](/csv_xlsx_files/BASIC_SEVA_benchling_misc_features_library.csv).\n",
    "- [ ] Remove color annotations and add description.\n",
    "- [ ] Upload genbank files to JBEI-ICE.\n",
    "- [ ] Generate a dictionary linking Part ID numbers to SEVA nomenclature."
   ],
   "metadata": {
    "tags": []
   }
  },
  {
   "cell_type": "code",
   "execution_count": 2,
   "source": [
    "from Bio import SeqIO, SeqUtils\n",
    "from Bio.SeqRecord import SeqRecord\n",
    "from Bio.Seq import Seq\n",
    "from pathlib import Path\n",
    "from basicsynbio.main import DEFAULT_ANNOTATIONS\n",
    "from basicsynbio.utils import MARKER_DICT, ORI_DICT\n",
    "import csv\n",
    "import pandas as pd\n"
   ],
   "outputs": [],
   "metadata": {}
  },
  {
   "cell_type": "code",
   "execution_count": 3,
   "source": [
    "benchling_features = pd.read_csv(Path.cwd().parent / \"csv_xlsx_files\" / \"BASIC_SEVA_benchling_misc_features_library.csv\", index_col=0)\n",
    "p15a_str = benchling_features.loc[\"SEVA_p15A\", \"Feature\"]\n",
    "seva_p15a = SeqRecord(Seq(p15a_str), id=\"SEVA_p15A\")\n",
    "error_p15a = \"CTAGAAATATTTTATCTGATTAATAAGATGATCTTCTTGAGATCGTTTTGGTCTGCGCGTAATCTCTTGCTCTGAAAACGAAAAAACCGCCTTGCAGGGCGGTTTTTCGAAGGTTCTCTGAGCTACCAACTCTTTGAACCGAGGTAACTGGCTTGGAGGAGCGCAGTCACCAAAACTTGTCCTTTCAGTTTAGCCTTAACCGGCGCATGACTTCAAGACTAACTCCTCTAAATCAATTACCAGTGGCTGCTGCCAGTGGTGCTTTTGCATGTCTTTCCGGGTTGGACTCAAGACGATAGTTACCGGATAAGGCGCAGCGGTCGGACTGAACGGGGGGTTCGTGCATACAGTCCAGCTTGGAGCGAACTGCCTACCCGGAACTGAGTGTCAGGCGTGGAATGAGACAAACGCGGCCATAACAGCGGAATGACACCGGTAAACCGAAAGGCAGGAACAGGAGAGCGCACGAGGGAGCCGCCAGGGGGAAACGCCTGGTATCTTTATAGTCCTGTCGGGTTTCGCCACCACTGATTTGAGCGTCAGATTTCGTGATGCTTGTCAGGGGGGCGGAGCCTATGGAAAAACGGCTTTTGCCGCGGCCCTCTCACTTCCCTGTTAAGTATCTTCCTGGCATCTTCCAGGAAATCTCCGCCCCGTTCGTAAGCCATTTCCGCTCGCCGCAGTCGAACGACCGAGCGTAGCGAGTCAGTGAGCGAGGAAGCGGAATATATCC\""
   ],
   "outputs": [],
   "metadata": {
    "tags": []
   }
  },
  {
   "cell_type": "code",
   "execution_count": 4,
   "source": [
    "def remove_features(bseva_seqrec, id=None):\n",
    "    \"\"\"Removes features from bseva_seqrec.\"\"\"\n",
    "    bseva_seqrec.features = []\n",
    "    bseva_seqrec.annotations = DEFAULT_ANNOTATIONS\n",
    "    if not id:\n",
    "        bseva_seqrec.id = \"BASIC_\" + bseva_seqrec.id\n",
    "    else:\n",
    "        bseva_seqrec.id = \"BASIC_\" + id\n",
    "    bseva_seqrec.name = bseva_seqrec.id\n",
    "    return bseva_seqrec\n",
    "\n",
    "\n",
    "BSEVA_DIR_INIT = Path.cwd().parent / \"sequences\" / \"genbank_files\" / \"BASIC_SEVA_collection\" / \"initial_files\"\n",
    "bseva_seqrecs = []\n",
    "for gb_file in (BSEVA_DIR_INIT).iterdir():\n",
    "    if \"BASIC_SEVA_no_annotations.gb\" not in gb_file.name:\n",
    "        seqrec = SeqIO.read(gb_file, \"genbank\")\n",
    "        if  int(gb_file.name[-4]) == 6:\n",
    "            error_p15_loc = SeqUtils.nt_search(str(seqrec.seq), error_p15a)\n",
    "            new_seqrec = seqrec[:error_p15_loc[1]] + seva_p15a + seqrec[error_p15_loc[1] + len(error_p15a):]\n",
    "            bseva_seqrecs.append(remove_features(new_seqrec, id=seqrec.id))\n",
    "        else:\n",
    "            bseva_seqrecs.append(remove_features(seqrec))\n",
    "SeqIO.write(bseva_seqrecs, BSEVA_DIR_INIT / \"BASIC_SEVA_no_annotations.gb\", \"genbank\")"
   ],
   "outputs": [
    {
     "output_type": "execute_result",
     "data": {
      "text/plain": [
       "48"
      ]
     },
     "metadata": {},
     "execution_count": 4
    }
   ],
   "metadata": {
    "tags": []
   }
  },
  {
   "cell_type": "markdown",
   "source": [
    "## Objective for cell below\n",
    "\n",
    "Remove color annotations and add description"
   ],
   "metadata": {}
  },
  {
   "cell_type": "code",
   "execution_count": 5,
   "source": [
    "def bseva_description(seqrec):\n",
    "    \"\"\"Generate string describing BASIC_SEVA collection member.\"\"\"\n",
    "    return f\"BASIC SEVA vector containing {MARKER_DICT[seqrec.id[-2]]} resistance marker and {ORI_DICT[seqrec.id[-1]]} origin of replication.\"\n",
    "\n",
    "\n",
    "def bseva_num(seqrec):\n",
    "    \"\"\":return: number of the bseva backbone.\"\"\"\n",
    "    return int(seqrec.id[11:])\n",
    "\n",
    "\n",
    "seqrecs = list(SeqIO.parse(BSEVA_DIR_INIT.parent / \"BASIC_SEVA_benchling.gb\", \"genbank\"))\n",
    "for seqrec in seqrecs:\n",
    "    seqrec.description = bseva_description(seqrec)\n",
    "    for feature in seqrec.features:\n",
    "        feature.qualifiers = {\"label\": feature.qualifiers[\"label\"]}\n",
    "seqrecs.sort(key=bseva_num)\n",
    "path_to_collections = Path.cwd().parent / \"basicsynbio\" / \"parts_linkers\" \n",
    "SeqIO.write(seqrecs, path_to_collections / \"BASIC_SEVA_collection_v01.gb\", \"genbank\")"
   ],
   "outputs": [
    {
     "output_type": "execute_result",
     "data": {
      "text/plain": [
       "48"
      ]
     },
     "metadata": {},
     "execution_count": 5
    }
   ],
   "metadata": {
    "tags": []
   }
  },
  {
   "cell_type": "markdown",
   "source": [
    "## Objectives for cell below\n",
    "\n",
    "Generate a csv file for submission of genbank files to JBEI-ICE."
   ],
   "metadata": {}
  },
  {
   "cell_type": "code",
   "execution_count": 6,
   "source": [
    "def jbei_ice_record(seqrec, \n",
    "pi=\"Paul Freemont\",\n",
    "creator = \"Matthew C Haines\",\n",
    "creator_email = \"mh2210@ic.ac.uk\",\n",
    "status = \"In Progress\",\n",
    "biosafety = \"Level 1\",\n",
    "host = \"E. coli\",\n",
    "circular = \"true\"\n",
    "):\n",
    "    \"\"\"Accepts a seqrec and metainformation and returns a list of elements corresponding to a record in a JBEI-ICE csv submission file.\"\"\"\n",
    "    return [pi, \"\", \"\", \"\", biosafety, seqrec.id, \"\", \"\", seqrec.description, \"\", \"\", \"\", status, creator, creator_email, circular, \"\", \"\", host, ORI_DICT[seqrec.id[-1]], MARKER_DICT[seqrec.id[-2]], \"\", seqrec.id + \".gb\", \"\"]\n",
    "\n",
    "\n",
    "jbei_ice_dir = Path.cwd().parent / \"jbei-ice_submissions\"\n",
    "with open(jbei_ice_dir / \"jbei-ice_plasmid_csv_upload.csv\", \"r\", newline=\"\") as template_file:\n",
    "    with open(jbei_ice_dir / \"2020-07-13_jbei-ice_submission\" / \"2020-07-13_jbei-ice_submission.csv\", \"w\", newline=\"\") as submission_file:\n",
    "        csv_reader = csv.reader(template_file)\n",
    "        csv_writer = csv.writer(submission_file)\n",
    "        for row in csv_reader:\n",
    "            csv_writer.writerow(row)\n",
    "        for seqrec in seqrecs:\n",
    "            csv_writer.writerow(jbei_ice_record(seqrec))"
   ],
   "outputs": [
    {
     "output_type": "error",
     "ename": "FileNotFoundError",
     "evalue": "[Errno 2] No such file or directory: '/home/hainesm6/github_repos/LondonBiofoundry/basicsynbio/jbei-ice_submissions/2020-07-13_jbei-ice_submission/2020-07-13_jbei-ice_submission.csv'",
     "traceback": [
      "\u001b[0;31m---------------------------------------------------------------------------\u001b[0m",
      "\u001b[0;31mFileNotFoundError\u001b[0m                         Traceback (most recent call last)",
      "\u001b[0;32m<ipython-input-6-779614c3a475>\u001b[0m in \u001b[0;36m<module>\u001b[0;34m\u001b[0m\n\u001b[1;32m     14\u001b[0m \u001b[0mjbei_ice_dir\u001b[0m \u001b[0;34m=\u001b[0m \u001b[0mPath\u001b[0m\u001b[0;34m.\u001b[0m\u001b[0mcwd\u001b[0m\u001b[0;34m(\u001b[0m\u001b[0;34m)\u001b[0m\u001b[0;34m.\u001b[0m\u001b[0mparent\u001b[0m \u001b[0;34m/\u001b[0m \u001b[0;34m\"jbei-ice_submissions\"\u001b[0m\u001b[0;34m\u001b[0m\u001b[0;34m\u001b[0m\u001b[0m\n\u001b[1;32m     15\u001b[0m \u001b[0;32mwith\u001b[0m \u001b[0mopen\u001b[0m\u001b[0;34m(\u001b[0m\u001b[0mjbei_ice_dir\u001b[0m \u001b[0;34m/\u001b[0m \u001b[0;34m\"jbei-ice_plasmid_csv_upload.csv\"\u001b[0m\u001b[0;34m,\u001b[0m \u001b[0;34m\"r\"\u001b[0m\u001b[0;34m,\u001b[0m \u001b[0mnewline\u001b[0m\u001b[0;34m=\u001b[0m\u001b[0;34m\"\"\u001b[0m\u001b[0;34m)\u001b[0m \u001b[0;32mas\u001b[0m \u001b[0mtemplate_file\u001b[0m\u001b[0;34m:\u001b[0m\u001b[0;34m\u001b[0m\u001b[0;34m\u001b[0m\u001b[0m\n\u001b[0;32m---> 16\u001b[0;31m     \u001b[0;32mwith\u001b[0m \u001b[0mopen\u001b[0m\u001b[0;34m(\u001b[0m\u001b[0mjbei_ice_dir\u001b[0m \u001b[0;34m/\u001b[0m \u001b[0;34m\"2020-07-13_jbei-ice_submission\"\u001b[0m \u001b[0;34m/\u001b[0m \u001b[0;34m\"2020-07-13_jbei-ice_submission.csv\"\u001b[0m\u001b[0;34m,\u001b[0m \u001b[0;34m\"w\"\u001b[0m\u001b[0;34m,\u001b[0m \u001b[0mnewline\u001b[0m\u001b[0;34m=\u001b[0m\u001b[0;34m\"\"\u001b[0m\u001b[0;34m)\u001b[0m \u001b[0;32mas\u001b[0m \u001b[0msubmission_file\u001b[0m\u001b[0;34m:\u001b[0m\u001b[0;34m\u001b[0m\u001b[0;34m\u001b[0m\u001b[0m\n\u001b[0m\u001b[1;32m     17\u001b[0m         \u001b[0mcsv_reader\u001b[0m \u001b[0;34m=\u001b[0m \u001b[0mcsv\u001b[0m\u001b[0;34m.\u001b[0m\u001b[0mreader\u001b[0m\u001b[0;34m(\u001b[0m\u001b[0mtemplate_file\u001b[0m\u001b[0;34m)\u001b[0m\u001b[0;34m\u001b[0m\u001b[0;34m\u001b[0m\u001b[0m\n\u001b[1;32m     18\u001b[0m         \u001b[0mcsv_writer\u001b[0m \u001b[0;34m=\u001b[0m \u001b[0mcsv\u001b[0m\u001b[0;34m.\u001b[0m\u001b[0mwriter\u001b[0m\u001b[0;34m(\u001b[0m\u001b[0msubmission_file\u001b[0m\u001b[0;34m)\u001b[0m\u001b[0;34m\u001b[0m\u001b[0;34m\u001b[0m\u001b[0m\n",
      "\u001b[0;31mFileNotFoundError\u001b[0m: [Errno 2] No such file or directory: '/home/hainesm6/github_repos/LondonBiofoundry/basicsynbio/jbei-ice_submissions/2020-07-13_jbei-ice_submission/2020-07-13_jbei-ice_submission.csv'"
     ]
    }
   ],
   "metadata": {
    "tags": []
   }
  },
  {
   "cell_type": "markdown",
   "source": [
    "## Objectives for cell below\n",
    "\n",
    "Generate a dictionary linking Part ID numbers to SEVA nomenclature."
   ],
   "metadata": {}
  },
  {
   "cell_type": "code",
   "execution_count": null,
   "source": [
    "\n",
    "seva_ind = 12\n",
    "ice_py_loc = Path.cwd().parent / \"basicsynbio\" / \"parts_linkers\" / \"ice.py\"\n",
    "with open(ice_py_loc, \"w\") as ice_py_file:\n",
    "    ice_py_file.write(\"BSEVA_ICE_DICT = {\\n\")\n",
    "    for ind in range(42):\n",
    "        ice_num = 17297 + ind\n",
    "        while str(seva_ind)[-1] in [str(num) for num in [0, 1, 6]]:\n",
    "            seva_ind += 1\n",
    "        ice_py_file.write(f\"    \\\"{seva_ind}\\\": \\\"{ice_num}\\\",\\n\")\n",
    "        seva_ind += 1\n",
    "    ice_py_file.write(\"}\")\n"
   ],
   "outputs": [],
   "metadata": {
    "tags": []
   }
  }
 ],
 "metadata": {
  "language_info": {
   "codemirror_mode": {
    "name": "ipython",
    "version": 3
   },
   "file_extension": ".py",
   "mimetype": "text/x-python",
   "name": "python",
   "nbconvert_exporter": "python",
   "pygments_lexer": "ipython3",
   "version": "3.8.5"
  },
  "orig_nbformat": 2,
  "kernelspec": {
   "name": "python3",
   "display_name": "basicsynbio:pyenv"
  },
  "interpreter": {
   "hash": "57f97546b8e059ecb785e5a83a832483957e404968430921b0ed5f9de2bd71dc"
  }
 },
 "nbformat": 4,
 "nbformat_minor": 2
}