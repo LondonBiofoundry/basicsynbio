{
 "metadata": {
  "language_info": {
   "codemirror_mode": {
    "name": "ipython",
    "version": 3
   },
   "file_extension": ".py",
   "mimetype": "text/x-python",
   "name": "python",
   "nbconvert_exporter": "python",
   "pygments_lexer": "ipython3",
   "version": "3.8.5-final"
  },
  "orig_nbformat": 2,
  "kernelspec": {
   "name": "python38564bitbasicsynbiovenv503eb75acb5144789582a1644510e9fb",
   "display_name": "Python 3.8.5 64-bit ('basicsynbio': venv)"
  }
 },
 "nbformat": 4,
 "nbformat_minor": 2,
 "cells": [
  {
   "source": [
    "# BioPython's Entrez module\n",
    "\n",
    "This notebook explores the potential of BioPython's Entrez module for basicsynbio\n",
    "\n",
    "## Aims and objectives for the cell below\n",
    "\n",
    "- Use Bio.Entrez to fetch sfgfp from a nucleotide sequence and then convert it into a BasicPart."
   ],
   "cell_type": "markdown",
   "metadata": {}
  },
  {
   "cell_type": "code",
   "execution_count": 17,
   "metadata": {
    "tags": []
   },
   "outputs": [
    {
     "output_type": "stream",
     "name": "stdout",
     "text": [
      "type: misc_feature\nlocation: [0:18](+)\nqualifiers:\n    Key: note, Value: ['BASIC integrated prefix']\n\ntype: gene\nlocation: [18:>732](+)\nqualifiers:\n    Key: gene, Value: ['sfGFP']\n\ntype: CDS\nlocation: [18:>732](+)\nqualifiers:\n    Key: codon_start, Value: ['1']\n    Key: gene, Value: ['sfGFP']\n    Key: note, Value: ['superfolder green fluorescent protein']\n    Key: product, Value: ['sfGFP']\n    Key: protein_id, Value: ['AIC82357.1']\n    Key: transl_table, Value: ['11']\n    Key: translation, Value: ['MSKGEELFTGVVPILVELDGDVNGHKFSVRGEGEGDATNGKLTLKFICTTGKLPVPWPTLVTTLTYGVQCFSRYPDHMKRHDFFKSAMPEGYVQERTISFKDDGTYKTRAEVKFEGDTLVNRIELKGIDFKEDGNILGHKLEYNFNSHNVYITADKQKNGIKANFKIRHNVEDGSVQLADHYQQNTPIGDGPVLLPDNHYLSTQSVLSKDPNEKRDHMVLLEFVTAAGITHGMDELYK']\n\ntype: misc_feature\nlocation: [732:750](+)\nqualifiers:\n    Key: note, Value: ['BASIC integrated suffix']\n\n"
     ]
    }
   ],
   "source": [
    "from Bio import Entrez, SeqIO\n",
    "import basicsynbio as bsb\n",
    "from basicsynbio.utils import feature_from_qualifier\n",
    "Entrez.email = \"hainesm6@gmail.com\"\n",
    "with Entrez.efetch(db=\"nucleotide\", id=\"KJ541673.2\", rettype=\"gb\", retmode=\"text\") as handle:\n",
    "    kj541673 = SeqIO.read(handle, \"genbank\")\n",
    "    sfgfp_feature = feature_from_qualifier(kj541673, \"gene\", [\"sfGFP\"])\n",
    "    sfgfp = kj541673[sfgfp_feature.location.start:sfgfp_feature.location.end]\n",
    "sfgfp_part = bsb.seqrec2part(sfgfp, add_i_seqs=True)\n",
    "for feature in sfgfp_part.features:\n",
    "    print(feature)\n",
    "\n"
   ]
  }
 ]
}