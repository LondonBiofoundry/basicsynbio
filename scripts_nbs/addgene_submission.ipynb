{
 "cells": [
  {
   "cell_type": "markdown",
   "source": [
    "# basicsynbio Addgene submission collection\n",
    "\n",
    "This Notebook contains code to aid the submission of basicsynbio linkers to addgene.\n",
    "\n",
    "## Notes on data preperation\n",
    "\n",
    "- [x] The p15A plasmid supplied by Marko `BS_x6x` was corrected given it has a \"t\" insertion.\n",
    "- [x] The Benchling feature library (BASIC_SEVA_benchling_misc_features_library.csv) was updated commit: `a2fb18c`.\n",
    "\n",
    "## Aims and objectives for cell/s below\n",
    "\n",
    "- [x] Import the following objects:\n",
    "  - [x] pickled BasicLinker `BSEVA_L1`\n",
    "  - [x] Selected Oris and AbR markers specified in #130.\n",
    "  - [x] mScarlet counter selection casettes for associated Oris.\n",
    "- [x] Assemble BS_x7x_TS gblocks with BS_1xx to place them in storage vectors. Export associated data. \n",
    "- [x] Generate a dictionary mapping between Oris and counter-selection casettes.\n",
    "- [x] Make assemblies and export the following data:\n",
    "  - [x] Genbank file containing all correctly assembled backbones.\n",
    "  - [x] Manual and automated build instructions.\n",
    "- [x] Calculate mass of AbR markers to add to clip reaction. *pJet contains multiple BsaI sites*.\n",
    "\n",
    "## Notes on implementation of above\n",
    "\n",
    "- Following commit ... x9x constructs were assembled with the 405 counter-selection cassette instead of the 407 cassette. This was in an attempt to lower the burden of these constructs."
   ],
   "metadata": {}
  },
  {
   "cell_type": "code",
   "execution_count": 11,
   "source": [
    "import basicsynbio as bsb\n",
    "from basicsynbio.cam import seqrecord_hexdigest\n",
    "from basicsynbio.utils import MARKER_DICT, ORI_DICT\n",
    "from Bio import SeqIO\n",
    "import pandas as pd\n",
    "from pathlib import Path\n",
    "import pickle\n",
    "import re"
   ],
   "outputs": [],
   "metadata": {}
  },
  {
   "cell_type": "code",
   "execution_count": 12,
   "source": [
    "path_to_seqs = Path.cwd().parents[0] / \"sequences\"\n",
    "path_to_initial_mods = path_to_seqs / \"genbank_files\" / \"BASIC_SEVA_collection\" / \"initial_mods\"\n",
    "# Import objects\n",
    "linkers = bsb.BASIC_BIOLEGIO_LINKERS[\"v0.1\"]\n",
    "with open(path_to_seqs / \"alternative_formats\" / \"pickles\" / \"SEVA-BB1\", \"rb\") as file:\n",
    "    bb_linker = pickle.load(file)\n",
    "abr_markers = list(\n",
    "    bsb.import_parts(path_to_initial_mods / \"AbR_markers.gb\",\n",
    "    \"genbank\"\n",
    "))\n",
    "oris = list(\n",
    "    bsb.import_parts(path_to_initial_mods / \"oris.gb\",\n",
    "    \"genbank\"\n",
    "))\n",
    "cs_cassettes = bsb.import_parts(path_to_initial_mods / \"mScarlet_cs_cassettes.gb\",\n",
    "    \"genbank\"\n",
    ")\n",
    "cs_cassettes = [\n",
    "    bsb.BasicAssembly(cs_cassette.id, linkers[\"LMP\"], cs_cassette, linkers[\"LMS\"], bsb.BASIC_SEVA_PARTS[\"v0.1\"][\"18\"]).return_part(\n",
    "        id=cs_cassette.id,\n",
    "        name=cs_cassette.id,\n",
    "    ) for cs_cassette in cs_cassettes\n",
    "]\n",
    "ts_ori_gblocks = list(bsb.import_parts(path_to_initial_mods / \"TS_ori_gblocks.gb\", \"genbank\"))\n",
    "# Check for unwanted Benchling annotations\n",
    "initial_modules = abr_markers + oris + cs_cassettes\n",
    "unwanted_annotations = (\"Translation\", \"Primer\")\n",
    "for initial_module in initial_modules:\n",
    "    if initial_module.id == \"BS_5axx\":\n",
    "        continue\n",
    "    qualifier_values = [value[0] for feature in initial_module.features for value in list(feature.qualifiers.values())]\n",
    "    for unwanted_annotation in unwanted_annotations:\n",
    "        re_matches = [re.match(unwanted_annotation, value[:len(unwanted_annotation)]) for value in qualifier_values]\n",
    "        if re_matches.count(None) != len(re_matches):\n",
    "            raise ValueError(f\"{initial_module.id} contains unwanted annotations\")"
   ],
   "outputs": [],
   "metadata": {}
  },
  {
   "cell_type": "code",
   "execution_count": 13,
   "source": [
    "# Assemble BS_x7x_TS\n",
    "ts_ori_assemblies = [bsb.BasicAssembly(\n",
    "    ts_ori.id,\n",
    "    linkers[\"LMP\"],\n",
    "    ts_ori,\n",
    "    linkers[\"LMS\"],\n",
    "    [marker for marker in abr_markers if marker.id == \"BS_1xx\"][0]\n",
    ") for ts_ori in ts_ori_gblocks]\n",
    "bsb.export_sequences_to_file(\n",
    "    ts_ori_assemblies,\n",
    "    path_to_initial_mods / \"TS_ori_modules.gb\"\n",
    ")\n",
    "bsb.pdf_instructions(\n",
    "    bsb.BasicBuild(*ts_ori_assemblies),\n",
    "    \"/home/hainesm6/github_repos/LondonBiofoundry/basicsynbio/pdfs/bs_x7x_ts_oris_instructions.pdf\",\n",
    ")"
   ],
   "outputs": [
    {
     "output_type": "stream",
     "name": "stderr",
     "text": [
      "/home/hainesm6/.pyenv/versions/3.8.5/envs/basicsynbio/lib/python3.8/site-packages/Bio/SeqIO/InsdcIO.py:726: BiopythonWarning: Increasing length of locus line to allow long name. This will result in fields that are not in usual positions.\n",
      "  warnings.warn(\n"
     ]
    },
    {
     "output_type": "execute_result",
     "data": {
      "text/plain": [
       "'/home/hainesm6/github_repos/LondonBiofoundry/basicsynbio/pdfs/bs_x7x_ts_oris_instructions.pdf'"
      ]
     },
     "metadata": {},
     "execution_count": 13
    }
   ],
   "metadata": {}
  },
  {
   "cell_type": "code",
   "execution_count": 14,
   "source": [
    "def bseva_assembly(\n",
    "    marker: bsb.BasicPart,\n",
    "    ori: bsb.BasicPart,\n",
    "    cs_cassette: bsb.BasicPart,\n",
    "    id: str =\"foobar\",\n",
    ") -> bsb.BasicAssembly:\n",
    "    \"\"\"Return a BASIC SEVA backbone as an assembly object.\n",
    "\n",
    "    Args:\n",
    "        marker: Antibiotic resistance marker.\n",
    "        ori: Origin of replication.\n",
    "        cs_cassette: Counter-selection containing mScarlet CDS.\n",
    "        id: ID for assembly   \n",
    "    \"\"\"\n",
    "    return bsb.BasicAssembly(\n",
    "        id,\n",
    "        linkers[\"LMP\"],\n",
    "        marker,\n",
    "        bb_linker,\n",
    "        ori,\n",
    "        linkers[\"LMS\"],\n",
    "        cs_cassette\n",
    "    )\n",
    "\n",
    "\n",
    "def marker_abbreviation(marker_id: str) -> str:\n",
    "    \"\"\"Return abbreviation for resistance marker.\"\"\"\n",
    "    if re.match(\"BS_\\daxx\", marker_id) != None:\n",
    "        return abr_marker.id[-4:-2]\n",
    "    return abr_marker.id[-3]\n",
    "\n",
    "\n",
    "# Map oris with counter selection cassettes\n",
    "ori_cs_cassette_mapping = {\n",
    "    \"BS_x5ax\": \"B407_J23119-RBS34-mScarl\",\n",
    "    \"BS_x6x\": \"B407_J23119-RBS34-mScarl\",\n",
    "    \"BS_x7x\": \"B408_J23119-RBS-A12-mSc\",\n",
    "    \"BS_x7x_pKD46\": \"B408_J23119-RBS-A12-mSc\",\n",
    "    \"BS_x9x\": \"B405_J23106-RBS34-mScarl\",\n",
    "}\n",
    "ori_cs_cassette_mapping = {\n",
    "    key: cs_cassettes[[cs_cassette.id for cs_cassette in cs_cassettes].index(value)] for key, value in ori_cs_cassette_mapping.items()\n",
    "}\n",
    "# Make assemblies and export data\n",
    "MARKER_DICT = MARKER_DICT.copy()\n",
    "MARKER_DICT[\"5a\"] = \"Tetracycline\"\n",
    "assemblies = []\n",
    "for abr_marker in abr_markers:\n",
    "    abr_abbreviation = marker_abbreviation(abr_marker.id)\n",
    "    for ori in oris:    \n",
    "        assembly = bseva_assembly(\n",
    "            abr_marker,\n",
    "            ori,\n",
    "            ori_cs_cassette_mapping[ori.id]\n",
    "        ) \n",
    "        if ori.id == \"BS_x7x_pKD46\":\n",
    "            assembly.id = f\"BASIC_SEVA_{abr_abbreviation}7_pKD46.10\"\n",
    "            assembly.description = f\"BASIC SEVA vector containing {MARKER_DICT[abr_abbreviation]} resistance marker and temperature sensitive pSC101 origin of replication\"\n",
    "        elif re.match(\"BS_x\\dax\", ori.id):\n",
    "            assembly.id = f\"BASIC_SEVA_{abr_abbreviation + ori.id[-3:-1]}.10\"\n",
    "            assembly.description = f\"BASIC SEVA vector containing {MARKER_DICT[abr_abbreviation]} resistance marker and {ORI_DICT[ori.id[-3]]} origin of replication\"           \n",
    "        else:\n",
    "            assert re.match(\"BS_x\\dx\", ori.id) != None\n",
    "            assembly.id = f\"BASIC_SEVA_{abr_abbreviation + ori.id[-2]}.10\"\n",
    "            assembly.description = f\"BASIC SEVA vector containing {MARKER_DICT[abr_abbreviation]} resistance marker and {ORI_DICT[ori.id[-2]]} origin of replication\"\n",
    "        assemblies.append(assembly)\n",
    "build = bsb.BasicBuild(*assemblies)\n",
    "bsb.export_sequences_to_file(\n",
    "    (assembly.return_part(\n",
    "        description=assembly.description,\n",
    "        name=assembly.id,\n",
    "        id=seqrecord_hexdigest(assembly.return_part())\n",
    "    ) for assembly in build.basic_assemblies),\n",
    "    Path.cwd().parents[0] / \"basicsynbio\" / \"parts_linkers\" / \"BASIC_SEVA_collection_v10.gb\"\n",
    ")\n",
    "bsb.export_echo_assembly(\n",
    "    build,\n",
    "    Path.cwd().parents[0] / \"csv_xlsx_files\" / \"BASIC_SEVA_collection_v10_echo_scripts.zip\",\n",
    "    assemblies_per_clip=20,\n",
    "    alternate_well=True,\n",
    ")\n",
    "bsb.pdf_instructions(\n",
    "    build,\n",
    "    \"/home/hainesm6/github_repos/LondonBiofoundry/basicsynbio/pdfs/BASIC_SEVA_collection_v10_manual.pdf\",\n",
    "    assemblies_per_clip=20,\n",
    ")\n"
   ],
   "outputs": [
    {
     "output_type": "execute_result",
     "data": {
      "text/plain": [
       "'/home/hainesm6/github_repos/LondonBiofoundry/basicsynbio/pdfs/BASIC_SEVA_collection_v10_manual.pdf'"
      ]
     },
     "metadata": {},
     "execution_count": 14
    }
   ],
   "metadata": {}
  },
  {
   "cell_type": "code",
   "execution_count": 15,
   "source": [
    "# Calculate AbR marker mass to add to clip reaction\n",
    "PJET_LEN = 2974\n",
    "def approx_clip_mass(seq_length: int, ndigit: int =None) -> float:\n",
    "    \"\"\"Calculate the approximate mass of a BASIC part (ng) to add to a clip reaction.\"\"\"\n",
    "    return round(2.5*30e-6*(seq_length*607.4 + 157.9), ndigit)\n",
    "abr_masses = {\n",
    "    \"Marker ID\": [marker.id for marker in abr_markers],\n",
    "    \"mass (ng)\": [\n",
    "        approx_clip_mass(PJET_LEN + len(marker.seq)) for marker in abr_markers\n",
    "    ],\n",
    "}\n",
    "abr_masses = pd.DataFrame(abr_masses)\n",
    "abr_masses.to_csv(\n",
    "    Path.cwd().parents[0] / \"csv_xlsx_files\" / \"AbR_marker_clip_masses.csv\",\n",
    "    index=False,\n",
    ")"
   ],
   "outputs": [],
   "metadata": {}
  },
  {
   "cell_type": "markdown",
   "source": [
    "## Results and discussion\n",
    "\n",
    "- It has previously been reported that inhibition of protein synthesis dramatically increases the copy number of relaxed plasmids such as pBR322-ROP (Sambrook). This would lead to relatively higher expression of mScarlet compared to antibiotics that don't inhibit protein synthesis e.g. carbenicilin. This could explain why certain x9x constructs were burdensome.   \n",
    "- Lowering the concentration of tetracycline to 5 microgram/mL may improve the growth rate of BASIC_SEVA_5a5a.10, 5a7 and presumably 5a7_pKD46.10. All these plasmids replicate via a stringent mechanism and therefore cannot increase copy number if protein expression is blocked. This could explain why dropping the concentration improved the growth of these plasmids.\n",
    "\n"
   ],
   "metadata": {}
  }
 ],
 "metadata": {
  "orig_nbformat": 4,
  "language_info": {
   "name": "python",
   "version": "3.8.5",
   "mimetype": "text/x-python",
   "codemirror_mode": {
    "name": "ipython",
    "version": 3
   },
   "pygments_lexer": "ipython3",
   "nbconvert_exporter": "python",
   "file_extension": ".py"
  },
  "kernelspec": {
   "name": "python3",
   "display_name": "Python 3.8.5 64-bit ('basicsynbio': pyenv)"
  },
  "interpreter": {
   "hash": "a9ef394515f7bdfc1a2fdab82219cc959d35a48d1a80fecda128203466856ae6"
  }
 },
 "nbformat": 4,
 "nbformat_minor": 2
}