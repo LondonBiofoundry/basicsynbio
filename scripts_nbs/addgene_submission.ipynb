{
 "cells": [
  {
   "cell_type": "markdown",
   "source": [
    "# basicsynbio Addgene submission collection\n",
    "\n",
    "This Notebook contains code to aid the submission of basicsynbio linkers to addgene.\n",
    "\n",
    "## Notes on data preperation\n",
    "\n",
    "- [x] The p15A plasmid supplied by Marko `BS_x6x` was corrected given it has a \"t\" insertion.\n",
    "- [x] The Benchling feature library (BASIC_SEVA_benchling_misc_features_library.csv) was updated commit: `a2fb18c`.\n",
    "\n",
    "## Aims and objectives for cell/s below\n",
    "\n",
    "- [x] Import the following objects:\n",
    "  - [x] pickled BasicLinker `BSEVA_L1`\n",
    "  - [x] Selected Oris and AbR markers specified in #130.\n",
    "  - [x] mScarlet counter selection casettes for associated Oris.\n",
    "- [x] Assemble BS_x7x_TS gblocks with BS_1xx to place them in storage vectors. Export associated data. \n",
    "- [x] Generate a dictionary mapping between Oris and counter-selection casettes.\n",
    "- [ ] Make assemblies and export the following data:\n",
    "  - [x] Genbank file containing all correctly assembled backbones.\n",
    "  - [x] Manual and automated build instructions."
   ],
   "metadata": {}
  },
  {
   "cell_type": "code",
   "execution_count": 1,
   "source": [
    "import basicsynbio as bsb\n",
    "from basicsynbio.utils import MARKER_DICT, ORI_DICT\n",
    "from pathlib import Path\n",
    "import pickle\n",
    "import re"
   ],
   "outputs": [],
   "metadata": {}
  },
  {
   "cell_type": "code",
   "execution_count": 2,
   "source": [
    "path_to_seqs = Path.cwd().parents[0] / \"sequences\"\n",
    "path_to_initial_mods = path_to_seqs / \"genbank_files\" / \"BASIC_SEVA_collection\" / \"initial_mods\"\n",
    "# Import objects\n",
    "with open(path_to_seqs / \"alternative_formats\" / \"pickles\" / \"SEVA-BB1\", \"rb\") as file:\n",
    "    bb_linker = pickle.load(file)\n",
    "abr_markers = list(\n",
    "    bsb.import_parts(path_to_initial_mods / \"AbR_markers.gb\",\n",
    "    \"genbank\"\n",
    "))\n",
    "oris = list(\n",
    "    bsb.import_parts(path_to_initial_mods / \"oris.gb\",\n",
    "    \"genbank\"\n",
    "))\n",
    "cs_cassettes = list(\n",
    "    bsb.import_parts(path_to_initial_mods / \"mScarlet_cs_cassettes.gb\",\n",
    "    \"genbank\"\n",
    "))\n",
    "ts_ori_gblocks = list(bsb.import_parts(path_to_initial_mods / \"TS_ori_gblocks.gb\", \"genbank\"))"
   ],
   "outputs": [],
   "metadata": {}
  },
  {
   "cell_type": "code",
   "execution_count": 3,
   "source": [
    "# Assemble BS_x7x_TS\n",
    "linkers = bsb.BASIC_BIOLEGIO_LINKERS[\"v0.1\"]\n",
    "ts_ori_assemblies = [bsb.BasicAssembly(\n",
    "    ts_ori.id,\n",
    "    linkers[\"LMP\"],\n",
    "    ts_ori,\n",
    "    linkers[\"LMS\"],\n",
    "    [marker for marker in abr_markers if marker.id == \"BS_1xx\"][0]\n",
    ") for ts_ori in ts_ori_gblocks]\n",
    "bsb.export_sequences_to_file(\n",
    "    ts_ori_assemblies,\n",
    "    path_to_initial_mods / \"TS_ori_modules.gb\"\n",
    ")\n",
    "bsb.pdf_instructions(\n",
    "    bsb.BasicBuild(*ts_ori_assemblies),\n",
    "    \"/home/hainesm6/github_repos/LondonBiofoundry/basicsynbio/pdfs/bs_x7x_ts_instructions.pdf\",\n",
    ")"
   ],
   "outputs": [
    {
     "output_type": "stream",
     "name": "stderr",
     "text": [
      "/home/hainesm6/.pyenv/versions/3.8.12/envs/basicsynbio/lib/python3.8/site-packages/Bio/SeqIO/InsdcIO.py:721: BiopythonWarning: Increasing length of locus line to allow long name. This will result in fields that are not in usual positions.\n",
      "  warnings.warn(\n"
     ]
    },
    {
     "output_type": "execute_result",
     "data": {
      "text/plain": [
       "[BasicPart(seq=Seq('TCTGGTGGGTCTCTGTCCTGTTCTACTTTTGTTTGTTAGTCTTGATGCTTCACT...TCG'), id='BS_x7x_TS_CASc', name='BS_x7x_TS_CASc', description='', dbxrefs=[]),\n",
       " BasicPart(seq=Seq('TCTGGTGGGTCTCTGTCCTGTTCTACTTTTGTTTGTTAGTCTTGATGCTTCACT...TCG'), id='BS_x7x_TS_PKD46', name='BS_x7x_TS_PKD46', description='', dbxrefs=[])]"
      ]
     },
     "metadata": {},
     "execution_count": 3
    }
   ],
   "metadata": {}
  },
  {
   "cell_type": "code",
   "execution_count": 4,
   "source": [
    "# Map oris with counter selection cassettes\n",
    "ori_cs_cassette_mapping = {\n",
    "    \"BS_x6x\": \"B407_J23119-RBS34-mScarl\",\n",
    "    \"BS_x7x\": \"B408_J23119-RBS-A12-mSc\",\n",
    "    \"BS_x7x_pKD46\": \"B408_J23119-RBS-A12-mSc\",\n",
    "    \"BS_x9x\": \"B407_J23119-RBS34-mScarl\",\n",
    "}\n",
    "ori_cs_cassette_mapping = {\n",
    "    key: cs_cassettes[[cs_cassette.id for cs_cassette in cs_cassettes].index(value)] for key, value in ori_cs_cassette_mapping.items()\n",
    "}\n",
    "# Make assemblies and export data\n",
    "MARKER_DICT = MARKER_DICT.copy()\n",
    "MARKER_DICT[\"5a\"] = \"Tetracycline\"\n",
    "assemblies = []\n",
    "for abr_marker in abr_markers:\n",
    "    if re.match(\"BS_\\daxx\", abr_marker) != None:\n",
    "        abr_abreviation = abr_marker.id[-4:-2]\n",
    "    else:\n",
    "        abr_abreviation = abr_marker.id[-3]\n",
    "    for ori in oris:    \n",
    "        assembly = bsb.BasicAssembly(\n",
    "            \"foobar\",\n",
    "            linkers[\"LMP\"],\n",
    "            abr_marker,\n",
    "            bb_linker,\n",
    "            ori,\n",
    "            linkers[\"LMS\"],\n",
    "            ori_cs_cassette_mapping[ori.id],\n",
    "        )\n",
    "        if ori.id == \"BS_x7x_pKD46\":\n",
    "            assembly.id = f\"BASIC_SEVA_{abr_abreviation}7_pKD46.10\"\n",
    "            assembly.description = f\"BASIC SEVA vector containing {MARKER_DICT[abr_abreviation]} resistance marker and temperature sensitive pSC101 origin of replication.\"\n",
    "        else:\n",
    "            assert re.match(\"BS_x\\dx\", ori.id) != None\n",
    "            assembly.id = f\"BASIC_SEVA_{abr_abreviation + ori.id[-2]}.10\"\n",
    "            assembly.description = f\"BASIC SEVA vector containing {MARKER_DICT[abr_abreviation]} resistance marker and {ORI_DICT[ori.id[-2]]} origin of replication.\"\n",
    "        assemblies.append(assembly)\n",
    "build = bsb.BasicBuild(*assemblies)\n",
    "bsb.export_sequences_to_file(\n",
    "    (assembly.return_part(description=assembly.description, name=assembly.id) for assembly in build.basic_assemblies),\n",
    "    Path.cwd().parents[0] / \"basicsynbio\" / \"parts_linkers\" / \"BASIC_SEVA_collection_v10.gb\"\n",
    ")\n",
    "bsb.export_echo_assembly(\n",
    "    build,\n",
    "    Path.cwd().parents[0] / \"csv_xlsx_files\" / \"BASIC_SEVA_collection_v10_echo_scripts.zip\",\n",
    "    assemblies_per_clip=20,\n",
    "    alternate_well=True,\n",
    ")\n",
    "bsb.pdf_instructions(\n",
    "    build,\n",
    "    \"/home/hainesm6/github_repos/LondonBiofoundry/basicsynbio/pdfs/BASIC_SEVA_collection_v10_manual.pdf\",\n",
    "    assemblies_per_clip=20,\n",
    ")\n"
   ],
   "outputs": [
    {
     "output_type": "error",
     "ename": "NameError",
     "evalue": "name 'oris' is not defined",
     "traceback": [
      "\u001b[0;31m---------------------------------------------------------------------------\u001b[0m",
      "\u001b[0;31mNameError\u001b[0m                                 Traceback (most recent call last)",
      "\u001b[0;32m<ipython-input-4-3ecb235b0ade>\u001b[0m in \u001b[0;36m<module>\u001b[0;34m\u001b[0m\n\u001b[1;32m     17\u001b[0m \u001b[0massemblies\u001b[0m \u001b[0;34m=\u001b[0m \u001b[0;34m[\u001b[0m\u001b[0;34m]\u001b[0m\u001b[0;34m\u001b[0m\u001b[0;34m\u001b[0m\u001b[0m\n\u001b[1;32m     18\u001b[0m \u001b[0;32mfor\u001b[0m \u001b[0mabr_marker\u001b[0m \u001b[0;32min\u001b[0m \u001b[0mabr_markers\u001b[0m\u001b[0;34m:\u001b[0m\u001b[0;34m\u001b[0m\u001b[0;34m\u001b[0m\u001b[0m\n\u001b[0;32m---> 19\u001b[0;31m     \u001b[0;32mfor\u001b[0m \u001b[0mori\u001b[0m \u001b[0;32min\u001b[0m \u001b[0moris\u001b[0m\u001b[0;34m:\u001b[0m\u001b[0;34m\u001b[0m\u001b[0;34m\u001b[0m\u001b[0m\n\u001b[0m\u001b[1;32m     20\u001b[0m         assembly = bsb.BasicAssembly(\n\u001b[1;32m     21\u001b[0m             \u001b[0;34m\"foobar\"\u001b[0m\u001b[0;34m,\u001b[0m\u001b[0;34m\u001b[0m\u001b[0;34m\u001b[0m\u001b[0m\n",
      "\u001b[0;31mNameError\u001b[0m: name 'oris' is not defined"
     ]
    }
   ],
   "metadata": {}
  }
 ],
 "metadata": {
  "orig_nbformat": 4,
  "language_info": {
   "name": "python",
   "version": "3.8.12",
   "mimetype": "text/x-python",
   "codemirror_mode": {
    "name": "ipython",
    "version": 3
   },
   "pygments_lexer": "ipython3",
   "nbconvert_exporter": "python",
   "file_extension": ".py"
  },
  "kernelspec": {
   "name": "python3",
   "display_name": "Python 3.8.12 64-bit ('basicsynbio': pyenv)"
  },
  "interpreter": {
   "hash": "d8e74d7f10a16cad536d866344bface28e9e02f5fd4359ab2f81f356abe7198a"
  }
 },
 "nbformat": 4,
 "nbformat_minor": 2
}