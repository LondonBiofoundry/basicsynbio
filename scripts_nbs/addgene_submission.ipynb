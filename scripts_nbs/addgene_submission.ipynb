{
 "cells": [
  {
   "cell_type": "markdown",
   "source": [
    "# basicsynbio Addgene submission collection\n",
    "\n",
    "This Notebook contains code to aid the submission of basicsynbio linkers to addgene.\n",
    "\n",
    "## Notes on data preperation\n",
    "\n",
    "- [x] The p15A plasmid supplied by Marko `BS_x6x` was corrected given it has a \"t\" insertion.\n",
    "- [x] The Benchling feature library (BASIC_SEVA_benchling_misc_features_library.csv) was updated commit: `a2fb18c`.\n",
    "\n",
    "## Aims and objectives for cell/s below\n",
    "\n",
    "- [ ] Generate a dictionary mapping between Oris and counter-selection casettes.\n",
    "- [ ] Import the following objects:\n",
    "  - [x] pickled BasicLinker `SEVA-BB1`\n",
    "  - [ ] Selected Oris and AbR markers specified in #130.\n",
    "  - [ ] mScarlet counter selection casettes for associated Oris.\n",
    "- [ ] Make assemblies and export the following data:\n",
    "  - [ ] Genbank file containing all correctly assembled backbones.\n",
    "  - [ ] Genbank file containing all BasicParts used by assemblies.\n",
    "  - [ ] Manual and automated build instructions. "
   ],
   "metadata": {}
  },
  {
   "cell_type": "code",
   "execution_count": 5,
   "source": [
    "import basicsynbio as bsb\n",
    "from pathlib import Path\n",
    "import pickle"
   ],
   "outputs": [],
   "metadata": {}
  },
  {
   "cell_type": "code",
   "execution_count": 6,
   "source": [
    "path_to_seqs = Path.cwd().parents[0] / \"sequences\"\n",
    "with open(path_to_seqs / \"alternative_formats\" / \"pickles\" / \"SEVA-BB1\", \"rb\") as file:\n",
    "    bb_linker = pickle.load(file)\n"
   ],
   "outputs": [
    {
     "output_type": "stream",
     "name": "stdout",
     "text": [
      "ID: 5518bf86b900969df3b98c08a8927caa\n",
      "Name: SEVA-BB1\n",
      "Description: BASIC backbone linker for assembling SEVA AbR casettes and SEVA Oris.\n",
      "Number of features: 1\n",
      "Seq('GGCTCGGCCCACTTGTGTGTCTCGTACAATTCTGAGGTCCACACAGATAGTGTCC')\n"
     ]
    }
   ],
   "metadata": {}
  }
 ],
 "metadata": {
  "orig_nbformat": 4,
  "language_info": {
   "name": "python",
   "version": "3.8.5",
   "mimetype": "text/x-python",
   "codemirror_mode": {
    "name": "ipython",
    "version": 3
   },
   "pygments_lexer": "ipython3",
   "nbconvert_exporter": "python",
   "file_extension": ".py"
  },
  "kernelspec": {
   "name": "python3",
   "display_name": "Python 3.8.5 64-bit ('basicsynbio': pyenv)"
  },
  "interpreter": {
   "hash": "a9ef394515f7bdfc1a2fdab82219cc959d35a48d1a80fecda128203466856ae6"
  }
 },
 "nbformat": 4,
 "nbformat_minor": 2
}