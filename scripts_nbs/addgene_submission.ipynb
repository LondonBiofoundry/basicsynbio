{
 "cells": [
  {
   "cell_type": "markdown",
   "source": [
    "# basicsynbio Addgene submission collection\n",
    "\n",
    "This Notebook contains code to aid the submission of basicsynbio linkers to addgene.\n",
    "\n",
    "## Notes on data preperation\n",
    "\n",
    "- [x] The p15A plasmid supplied by Marko `BS_x6x` was corrected given it has a \"t\" insertion.\n",
    "- [x] The Benchling feature library (BASIC_SEVA_benchling_misc_features_library.csv) was updated commit: `a2fb18c`.\n",
    "\n",
    "## Aims and objectives for cell/s below\n",
    "\n",
    "\n",
    "- [x] Import the following objects:\n",
    "  - [x] pickled BasicLinker `SEVA-BB1`\n",
    "  - [x] Selected Oris and AbR markers specified in #130.\n",
    "  - [x] mScarlet counter selection casettes for associated Oris.\n",
    "- [x] Generate a dictionary mapping between Oris and counter-selection casettes.\n",
    "- [ ] Make assemblies and export the following data:\n",
    "  - [x] Genbank file containing all correctly assembled backbones.\n",
    "  - [x] Manual and automated build instructions."
   ],
   "metadata": {}
  },
  {
   "cell_type": "code",
   "execution_count": 1,
   "source": [
    "import basicsynbio as bsb\n",
    "from basicsynbio.utils import MARKER_DICT, ORI_DICT\n",
    "from pathlib import Path\n",
    "import pickle"
   ],
   "outputs": [],
   "metadata": {}
  },
  {
   "cell_type": "code",
   "execution_count": 2,
   "source": [
    "path_to_seqs = Path.cwd().parents[0] / \"sequences\"\n",
    "path_to_initial_mods = path_to_seqs / \"genbank_files\" / \"BASIC_SEVA_collection\" / \"initial_mods\"\n",
    "# Import objects\n",
    "with open(path_to_seqs / \"alternative_formats\" / \"pickles\" / \"SEVA-BB1\", \"rb\") as file:\n",
    "    bb_linker = pickle.load(file)\n",
    "abr_markers = list(\n",
    "    bsb.import_parts(path_to_initial_mods / \"AbR_markers.gb\",\n",
    "    \"genbank\"\n",
    "))\n",
    "oris = list(\n",
    "    bsb.import_parts(path_to_initial_mods / \"oris.gb\",\n",
    "    \"genbank\"\n",
    "))\n",
    "cs_cassettes = list(\n",
    "    bsb.import_parts(path_to_initial_mods / \"mScarlet_cs_cassettes.gb\",\n",
    "    \"genbank\"\n",
    "))\n",
    "# Map oris with counter selection cassettes\n",
    "ori_cs_cassette_mapping = {\n",
    "    \"BS_x5x\": \"B407_J23119-RBS34-mScarl\",\n",
    "    \"BS_x6x\": \"B407_J23119-RBS34-mScarl\",\n",
    "    \"BS_x7x\": \"B408_J23119-RBS-A12-mSc\",\n",
    "    \"BS_x7x_TS_CASc\": \"B408_J23119-RBS-A12-mSc\",\n",
    "    \"BS_x8x\": \"B405_J23106-RBS34-mScarl\",\n",
    "    \"BS_x9x\": \"B407_J23119-RBS34-mScarl\",\n",
    "}\n",
    "ori_cs_cassette_mapping = {\n",
    "    key: cs_cassettes[[cs_cassette.id for cs_cassette in cs_cassettes].index(value)] for key, value in ori_cs_cassette_mapping.items()\n",
    "}\n",
    "# Make assemblies and export data\n",
    "linkers = bsb.BASIC_BIOLEGIO_LINKERS[\"v0.1\"]\n",
    "assemblies = []\n",
    "for abr_marker in abr_markers:\n",
    "    for ori in oris:    \n",
    "        assembly = bsb.BasicAssembly(\n",
    "            \"foobar\",\n",
    "            linkers[\"LMP\"],\n",
    "            abr_marker,\n",
    "            bb_linker,\n",
    "            ori,\n",
    "            linkers[\"LMS\"],\n",
    "            ori_cs_cassette_mapping[ori.id],\n",
    "        )\n",
    "        if ori.id == \"BS_x7x_TS_CASc\":\n",
    "            assembly.id = f\"BASIC_SEVA_{abr_marker.id[-3]}7_TS.1\"\n",
    "            assembly.description = f\"BASIC SEVA vector containing {MARKER_DICT[abr_marker.id[-3]]} resistance marker and temperature sensitive pSC101 origin of replication.\"\n",
    "        else:\n",
    "            assembly.id = f\"BASIC_SEVA_{abr_marker.id[-3] + ori.id[-2]}.10\"\n",
    "            assembly.description = f\"BASIC SEVA vector containing {MARKER_DICT[abr_marker.id[-3]]} resistance marker and {ORI_DICT[ori.id[-2]]} origin of replication.\"\n",
    "        assemblies.append(assembly)\n",
    "build = bsb.BasicBuild(*assemblies)\n",
    "bsb.export_sequences_to_file(\n",
    "    (assembly.return_part(description=assembly.description, name=assembly.id) for assembly in build.basic_assemblies),\n",
    "    Path.cwd().parents[0] / \"basicsynbio\" / \"parts_linkers\" / \"BASIC_SEVA_collection_v10.gb\"\n",
    ")\n",
    "bsb.export_echo_assembly(\n",
    "    build,\n",
    "    Path.cwd().parents[0] / \"csv_xlsx_files\" / \"BASIC_SEVA_collection_v10_echo_scripts.zip\",\n",
    "    assemblies_per_clip=20,\n",
    "    alternate_well=True,\n",
    ")\n",
    "bsb.pdf_instructions(\n",
    "    build,\n",
    "    \"/home/hainesm6/github_repos/LondonBiofoundry/basicsynbio/pdfs/BASIC_SEVA_collection_v10_manual.pdf\",\n",
    "    assemblies_per_clip=20,\n",
    ")\n",
    "\n"
   ],
   "outputs": [
    {
     "output_type": "execute_result",
     "data": {
      "text/plain": [
       "'/home/hainesm6/github_repos/LondonBiofoundry/basicsynbio/pdfs/BASIC_SEVA_collection_v10_manual.pdf'"
      ]
     },
     "metadata": {},
     "execution_count": 2
    }
   ],
   "metadata": {}
  },
  {
   "cell_type": "code",
   "execution_count": 3,
   "source": [
    "print([abr_marker.id for abr_marker in abr_markers])"
   ],
   "outputs": [
    {
     "output_type": "stream",
     "name": "stdout",
     "text": [
      "['BS_1xx', 'BS_2xx', 'BS_3xx', 'BS_4xx', 'BS_5xx', 'BS_6xx']\n"
     ]
    }
   ],
   "metadata": {}
  }
 ],
 "metadata": {
  "orig_nbformat": 4,
  "language_info": {
   "name": "python",
   "version": "3.8.5",
   "mimetype": "text/x-python",
   "codemirror_mode": {
    "name": "ipython",
    "version": 3
   },
   "pygments_lexer": "ipython3",
   "nbconvert_exporter": "python",
   "file_extension": ".py"
  },
  "kernelspec": {
   "name": "python3",
   "display_name": "basicsynbio:pyenv"
  },
  "interpreter": {
   "hash": "a9ef394515f7bdfc1a2fdab82219cc959d35a48d1a80fecda128203466856ae6"
  }
 },
 "nbformat": 4,
 "nbformat_minor": 2
}