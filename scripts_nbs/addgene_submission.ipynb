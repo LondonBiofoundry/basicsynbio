{
 "cells": [
  {
   "cell_type": "markdown",
   "metadata": {},
   "source": [
    "# basicsynbio Addgene submission collection\n",
    "\n",
    "This Notebook contains code to aid the generation and submission of BASIC SEVA plasmids to addgene.\n",
    "\n",
    "## Notes on preperation\n",
    "\n",
    "- [x] The initial p15A ori was corrected given it had a \"t\" insertion, yielding `BS_x6x`.\n",
    "- [x] The Benchling feature library (BASIC_SEVA_benchling_misc_features_library.csv) was updated commit: `a2fb18c`.\n",
    "\n",
    "## Aims and objectives for cell/s below\n",
    "\n",
    "- [x] Import the following objects:\n",
    "  - [x] pickled BasicLinker `BSEVA_L1`\n",
    "  - [x] Selected Oris and AbR markers specified in #130.\n",
    "  - [x] mScarlet counter selection casettes for associated Oris.\n",
    "- [x] Assemble BS_x7x_TS gblocks with BS_1xx to place them in storage vectors. Export associated data. \n",
    "- [x] Generate a dictionary mapping between Oris and counter-selection casettes.\n",
    "- [x] Make assemblies and export the following data:\n",
    "  - [x] Genbank file containing all correctly assembled backbones.\n",
    "  - [x] Manual and automated build instructions.\n",
    "- [x] Calculate mass of AbR markers to add to clip reaction. *pJet contains multiple BsaI sites and hence cannot be imported*.\n",
    "\n",
    "## Notes on implementation of above\n",
    "\n",
    "- Following commit `4378e7e` x9x constructs were assembled with the 405 counter-selection cassette instead of the 407 cassette. This was in an attempt to lower the burden of these constructs."
   ]
  },
  {
   "cell_type": "code",
   "execution_count": 1,
   "metadata": {},
   "outputs": [],
   "source": [
    "import basicsynbio as bsb\n",
    "from basicsynbio.cam import seqrecord_hexdigest\n",
    "from basicsynbio.utils import MARKER_DICT, ORI_DICT\n",
    "from Bio import SeqIO\n",
    "import csv\n",
    "import json\n",
    "import numpy as np\n",
    "import pandas as pd\n",
    "from pathlib import Path\n",
    "import pickle\n",
    "from platemap import Plate\n",
    "import re\n",
    "from typing import Tuple, Dict"
   ]
  },
  {
   "cell_type": "code",
   "execution_count": 2,
   "metadata": {},
   "outputs": [],
   "source": [
    "PATH_TO_SEQS = Path.cwd().parents[0] / \"sequences\"\n",
    "PATH_TO_INITIAL_MODS = PATH_TO_SEQS / \"genbank_files\" / \"BASIC_SEVA_collection\" / \"initial_mods\"\n",
    "# Import objects\n",
    "linkers = bsb.BASIC_BIOLEGIO_LINKERS[\"v0.1\"]\n",
    "with open(PATH_TO_SEQS / \"alternative_formats\" / \"pickles\" / \"SEVA-BB1\", \"rb\") as file:\n",
    "    bb_linker = pickle.load(file)\n",
    "abr_markers = list(\n",
    "    bsb.import_parts(PATH_TO_INITIAL_MODS / \"AbR_markers.gb\",\n",
    "    \"genbank\"\n",
    "))\n",
    "oris = list(\n",
    "    bsb.import_parts(PATH_TO_INITIAL_MODS / \"oris.gb\",\n",
    "    \"genbank\"\n",
    ")) # collection of oris previously assembled with BS_1xx\n",
    "cs_cassettes = list(\n",
    "    bsb.import_parts(PATH_TO_INITIAL_MODS / \"mScarlet_cs_cassettes.gb\",\n",
    "    \"genbank\"\n",
    "))\n",
    "ts_ori_gblocks = list(bsb.import_parts(PATH_TO_INITIAL_MODS / \"TS_ori_gblocks.gb\", \"genbank\"))\n",
    "# Check for unwanted Benchling annotations\n",
    "initial_modules = abr_markers + oris + cs_cassettes\n",
    "unwanted_annotations = (\"Translation\", \"Primer\")\n",
    "for initial_module in initial_modules:\n",
    "    if initial_module.id == \"BS_5axx\":\n",
    "        continue\n",
    "    qualifier_values = [value[0] for feature in initial_module.features for value in list(feature.qualifiers.values())]\n",
    "    for unwanted_annotation in unwanted_annotations:\n",
    "        re_matches = [re.match(unwanted_annotation, value[:len(unwanted_annotation)]) for value in qualifier_values]\n",
    "        if re_matches.count(None) != len(re_matches):\n",
    "            raise ValueError(f\"{initial_module.id} contains unwanted annotations\")"
   ]
  },
  {
   "cell_type": "code",
   "execution_count": 3,
   "metadata": {},
   "outputs": [
    {
     "name": "stderr",
     "output_type": "stream",
     "text": [
      "/home/hainesm6/.pyenv/versions/basicsynbio/lib/python3.8/site-packages/Bio/SeqIO/InsdcIO.py:726: BiopythonWarning: Increasing length of locus line to allow long name. This will result in fields that are not in usual positions.\n",
      "  warnings.warn(\n"
     ]
    }
   ],
   "source": [
    "bs_1xx = [marker for marker in abr_markers if marker.id == \"BS_1xx\"][0]\n",
    "# Assemble BS_x7x_TS\n",
    "ts_ori_assemblies = [bsb.BasicAssembly(\n",
    "    ts_ori.id,\n",
    "    linkers[\"LMP\"],\n",
    "    ts_ori,\n",
    "    linkers[\"LMS\"],\n",
    "    bs_1xx\n",
    ") for ts_ori in ts_ori_gblocks]\n",
    "bsb.export_sequences_to_file(\n",
    "    ts_ori_assemblies,\n",
    "    PATH_TO_INITIAL_MODS / \"TS_ori_modules.gb\"\n",
    ")\n",
    "bsb.pdf_instructions(\n",
    "    bsb.BasicBuild(*ts_ori_assemblies),\n",
    "    \"/home/hainesm6/github_repos/LondonBiofoundry/basicsynbio/pdfs/bs_x7x_ts_oris_instructions.pdf\",\n",
    ")\n",
    "# Assemble counter-selection cassettes\n",
    "cs_cassette_ori_mapping = {\n",
    "    \"B405_J23106-RBS34-mScarl\": \"BS_x9x\",\n",
    "    \"B407_J23119-RBS34-mScarl\": \"BS_x6x\",\n",
    "    \"B408_J23119-RBS-A12-mSc\": \"BS_x7x\",\n",
    "}\n",
    "cs_cassettes = [\n",
    "    bsb.BasicAssembly(\n",
    "        cs_cassette.id,\n",
    "        linkers[\"LMP\"],\n",
    "        cs_cassette,\n",
    "        linkers[\"LMS\"],\n",
    "        bs_1xx,\n",
    "        bsb.BASIC_BIOLEGIO_LINKERS[\"v0.1\"][\"L1\"],\n",
    "        [ori for ori in oris if ori.id == cs_cassette_ori_mapping[cs_cassette.id]][0]\n",
    "    ).return_part(\n",
    "        id=cs_cassette.id,\n",
    "        name=cs_cassette.id,\n",
    "    ) for cs_cassette in cs_cassettes\n",
    "]"
   ]
  },
  {
   "cell_type": "code",
   "execution_count": 4,
   "metadata": {},
   "outputs": [],
   "source": [
    "def bseva_assembly(\n",
    "    marker: bsb.BasicPart,\n",
    "    ori: bsb.BasicPart,\n",
    "    cs_cassette: bsb.BasicPart,\n",
    "    id: str =\"foobar\",\n",
    ") -> bsb.BasicAssembly:\n",
    "    \"\"\"Return a BASIC SEVA backbone as an assembly object.\n",
    "\n",
    "    Args:\n",
    "        marker: Antibiotic resistance marker.\n",
    "        ori: Origin of replication.\n",
    "        cs_cassette: Counter-selection containing mScarlet CDS.\n",
    "        id: ID for assembly   \n",
    "    \"\"\"\n",
    "    return bsb.BasicAssembly(\n",
    "        id,\n",
    "        linkers[\"LMP\"],\n",
    "        marker,\n",
    "        bb_linker,\n",
    "        ori,\n",
    "        linkers[\"LMS\"],\n",
    "        cs_cassette\n",
    "    )\n",
    "\n",
    "\n",
    "def marker_abbreviation(marker_id: str) -> str:\n",
    "    \"\"\"Return abbreviation for resistance marker.\"\"\"\n",
    "    if re.match(\"BS_\\daxx\", marker_id) != None:\n",
    "        return abr_marker.id[-4:-2]\n",
    "    return abr_marker.id[-3]\n",
    "\n",
    "\n",
    "# Map oris with counter selection cassettes\n",
    "ori_cs_cassette_mapping = {\n",
    "    \"BS_x5ax\": \"B407_J23119-RBS34-mScarl\",\n",
    "    \"BS_x6x\": \"B407_J23119-RBS34-mScarl\",\n",
    "    \"BS_x7x\": \"B408_J23119-RBS-A12-mSc\",\n",
    "    \"BS_x7x_pKD46\": \"B408_J23119-RBS-A12-mSc\",\n",
    "    \"BS_x9x\": \"B405_J23106-RBS34-mScarl\",\n",
    "}\n",
    "ori_cs_cassette_mapping = {\n",
    "    key: cs_cassettes[[cs_cassette.id for cs_cassette in cs_cassettes].index(value)] for key, value in ori_cs_cassette_mapping.items()\n",
    "}\n",
    "# Make assemblies and export data\n",
    "MARKER_DICT = MARKER_DICT.copy()\n",
    "MARKER_DICT[\"5a\"] = \"Tetracycline\"\n",
    "assemblies = []\n",
    "for abr_marker in abr_markers:\n",
    "    abr_abbreviation = marker_abbreviation(abr_marker.id)\n",
    "    for ori in oris:    \n",
    "        assembly = bseva_assembly(\n",
    "            abr_marker,\n",
    "            ori,\n",
    "            ori_cs_cassette_mapping[ori.id]\n",
    "        )\n",
    "        assembly.marker = MARKER_DICT[abr_abbreviation] \n",
    "        if ori.id == \"BS_x7x_pKD46\":\n",
    "            assembly.abbreviation = f\"{abr_abbreviation}7_pKD46\"\n",
    "            assembly.ori = \"temperature sensitive pSC101\"\n",
    "        elif re.match(\"BS_x\\dax\", ori.id):\n",
    "            assembly.abbreviation = abr_abbreviation + ori.id[-3:-1]\n",
    "            assembly.ori = ORI_DICT[ori.id[-3]]           \n",
    "        else:\n",
    "            assert re.match(\"BS_x\\dx\", ori.id) != None\n",
    "            assembly.abbreviation = abr_abbreviation + ori.id[-2]\n",
    "            assembly.ori = ORI_DICT[ori.id[-2]]\n",
    "        assembly.id = f\"BASIC_SEVA_{assembly.abbreviation}.10\"\n",
    "        assembly.description = f\"BASIC SEVA vector containing {assembly.marker} resistance marker and {assembly.ori} origin of replication\"\n",
    "        assemblies.append(assembly)\n",
    "build = bsb.BasicBuild(*assemblies)\n",
    "PATH_TO_CSVS = Path.cwd().parents[0] / \"csv_xlsx_files\"\n"
   ]
  },
  {
   "cell_type": "code",
   "execution_count": 5,
   "metadata": {},
   "outputs": [
    {
     "data": {
      "text/plain": [
       "'/home/hainesm6/github_repos/LondonBiofoundry/basicsynbio/pdfs/BASIC_SEVA_collection_v10_manual.pdf'"
      ]
     },
     "execution_count": 5,
     "metadata": {},
     "output_type": "execute_result"
    }
   ],
   "source": [
    "bsb.export_sequences_to_file(\n",
    "    (assembly.return_part(\n",
    "        description=assembly.description,\n",
    "        name=assembly.id,\n",
    "        id=seqrecord_hexdigest(assembly.return_part())\n",
    "    ) for assembly in build.basic_assemblies),\n",
    "    Path.cwd().parents[0] / \"basicsynbio\" / \"parts_linkers\" / \"BASIC_SEVA_collection_v10.gb\"\n",
    ") \n",
    "bsb.export_echo_assembly_instructions(\n",
    "    build,\n",
    "    PATH_TO_CSVS / \"BASIC_SEVA_collection_v10_echo_scripts.zip\",\n",
    "    assemblies_per_clip=20,\n",
    "    alternate_well=True,\n",
    ")\n",
    "bsb.pdf_instructions(\n",
    "    build,\n",
    "    \"/home/hainesm6/github_repos/LondonBiofoundry/basicsynbio/pdfs/BASIC_SEVA_collection_v10_manual.pdf\",\n",
    "    assemblies_per_clip=20,\n",
    ")"
   ]
  },
  {
   "cell_type": "code",
   "execution_count": 6,
   "metadata": {},
   "outputs": [],
   "source": [
    "# Calculate AbR marker mass to add to clip reaction\n",
    "PJET_LEN = 2974\n",
    "def approx_clip_mass(seq_length: int, ndigit: int =None) -> float:\n",
    "    \"\"\"Calculate the approximate mass of a BASIC part (ng) to add to a clip reaction.\"\"\"\n",
    "    return round(2.5*30e-6*(seq_length*607.4 + 157.9), ndigit)\n",
    "abr_masses = {\n",
    "    \"Marker ID\": [marker.id for marker in abr_markers],\n",
    "    \"mass (ng)\": [\n",
    "        approx_clip_mass(PJET_LEN + len(marker.seq)) for marker in abr_markers\n",
    "    ],\n",
    "}\n",
    "abr_masses = pd.DataFrame(abr_masses)\n",
    "abr_masses.to_csv(\n",
    "    PATH_TO_CSVS / \"AbR_marker_clip_masses.csv\",\n",
    "    index=False,\n",
    ")"
   ]
  },
  {
   "cell_type": "markdown",
   "metadata": {},
   "source": [
    "## Results and discussion\n",
    "\n",
    "- It has previously been reported that inhibition of protein synthesis dramatically increases the copy number of relaxed plasmids such as pBR322-ROP (Sambrook). This would lead to relatively higher expression of mScarlet compared to antibiotics that don't inhibit protein synthesis e.g. carbenicilin. This could explain why certain x9x constructs were burdensome.   \n",
    "- Lowering the concentration of tetracycline to 5 microgram/mL may improve the growth rate of BASIC_SEVA_5a5a.10, 5a7 and presumably 5a7_pKD46.10. All these plasmids replicate via a stringent mechanism and therefore cannot increase copy number if protein expression is blocked. This could explain why dropping the concentration improved the growth of these plasmids.\n",
    "\n"
   ]
  },
  {
   "cell_type": "markdown",
   "metadata": {},
   "source": [
    "## Aims and objectives for the cell/s below\n",
    "\n",
    "- [x] Export csv file containing the following data for plasmids cultured at 37 degrees Celsius: name, marker, transformation well, overnight well.\n",
    "- [x] Export a csv file containing data on BsaI digested constructs in the form: Assembly ID, Fragment 1 Length (bp), Fragment 2 Length (bp).\n",
    "- [x] Generate a submission file for addgene for the collection.\n",
    "- [X] Export `assembly.abbreviation` values to a spreadsheet.\n",
    "- [x] What is the mean size of the plasmid in the collection."
   ]
  },
  {
   "cell_type": "code",
   "execution_count": 7,
   "metadata": {},
   "outputs": [],
   "source": [
    "def construct_picking_dict(\n",
    "    overnight_wells: Tuple[str, ...],\n",
    "    transformation_well: str,\n",
    "    marker: str,\n",
    "    name: str,\n",
    ") -> Dict:\n",
    "    \"\"\"Return dictionary describing wells construct is picked into.\"\"\"\n",
    "    return [{\n",
    "        \"Overnight Well\": overnight_well,\n",
    "        \"Transformation Well\": transformation_well,\n",
    "        \"Marker\": marker,\n",
    "        \"Name\": name,\n",
    "    } for overnight_well in overnight_wells]\n",
    "\n",
    "\n",
    "PLATE_96 = Plate(size=96)\n",
    "\n",
    "\n",
    "def plate_wells(\n",
    "    number_of_wells: str,\n",
    "    first_well_index: int,\n",
    "    plate: Plate =PLATE_96, \n",
    "):\n",
    "    \"\"\"slice wells of plate based on number of wells required and first well index.\"\"\"\n",
    "    return plate.wells[first_well_index:first_well_index + number_of_wells]\n",
    "\n",
    "\n",
    "overnight_ind = 0\n",
    "NUMBER_OF_WELLS_TO_PICK = 4\n",
    "with open(PATH_TO_CSVS / \"BASIC_SEVA_10_overnights.csv\", \"w\", newline=\"\") as csvf:\n",
    "    fieldnames = [\"Overnight Well\", \"Transformation Well\", \"Marker\", \"Name\",]\n",
    "    dictwriter = csv.DictWriter(csvf, fieldnames=fieldnames)\n",
    "    dictwriter.writeheader()\n",
    "    for ind, assembly in enumerate(build.basic_assemblies):\n",
    "        if re.match(\"BASIC_SEVA_\\d7_pKD46.10\", assembly.id):\n",
    "            continue\n",
    "        elif re.match(\"BASIC_SEVA_\\d[a-z]7_pKD46.10\", assembly.id):\n",
    "            continue\n",
    "        dictwriter.writerows(construct_picking_dict(\n",
    "            overnight_wells=plate_wells(\n",
    "                NUMBER_OF_WELLS_TO_PICK,\n",
    "                first_well_index=overnight_ind\n",
    "            ),\n",
    "            transformation_well=PLATE_96.wells[ind],\n",
    "            marker=assembly.marker,\n",
    "            name=assembly.id\n",
    "        ))\n",
    "        overnight_ind += NUMBER_OF_WELLS_TO_PICK"
   ]
  },
  {
   "cell_type": "code",
   "execution_count": 8,
   "metadata": {},
   "outputs": [],
   "source": [
    "with open(PATH_TO_CSVS / \"BASIC_SEVA_10_bsaI_digest.csv\", \"w\", newline=\"\") as csvf:\n",
    "    fieldnames = [\"Assembly ID\", \"Fragment 1 Length (bp)\", \"Fragment 2 Length (bp)\"]\n",
    "    dictwriter = csv.DictWriter(csvf, fieldnames=fieldnames)\n",
    "    dictwriter.writeheader()\n",
    "    for assembly_digest in bsb.build_digest(build):\n",
    "        dictwriter.writerow({\n",
    "            \"Assembly ID\": assembly_digest.assembly.id,\n",
    "            \"Fragment 1 Length (bp)\": assembly_digest.product_lengths[0],\n",
    "            \"Fragment 2 Length (bp)\": assembly_digest.product_lengths[1]\n",
    "        })"
   ]
  },
  {
   "cell_type": "code",
   "execution_count": 9,
   "metadata": {},
   "outputs": [],
   "source": [
    "addgene_template = pd.read_csv(PATH_TO_CSVS / \"addgene_headers.csv\")\n",
    "ADDGENE_FIELDNAMES = tuple(name for name in addgene_template.columns)\n",
    "rows = [\n",
    "    {fieldname: \"\" for fieldname in ADDGENE_FIELDNAMES} for i in range(len(build.basic_assemblies))\n",
    "]\n",
    "for ind, assembly_digest in enumerate(bsb.build_digest(build)):\n",
    "    rows[ind].update(\n",
    "        {\n",
    "            \"Plasmid Name\": assembly_digest.assembly.id,\n",
    "            \"Plasmid Type\": \"Encodes one insert\",\n",
    "            \"Purpose\": \"BASIC DNA assembly vector\",\n",
    "            \"Gene or insert Name\": \"mScarlet counter-selection cassette\",\n",
    "            \"Insert Size\": min(assembly_digest.product_lengths),\n",
    "            \"Species of gene or insert\": \"Synthetic\",\n",
    "            \"Relevant Mutations\": \"Not applicable\",\n",
    "            \"Backbone Name\": assembly_digest.assembly.id,\n",
    "            \"Primary Vector Type\": \"Synthetic Biology\",\n",
    "            \"Backbone size without insert\": max(assembly_digest.product_lengths),\n",
    "            \"Cloning Method\": \"Unknown\",\n",
    "            \"5-prime Sequencing Primer\": \"ggcggcggatttgtcctac\",\n",
    "            \"3-prime Sequencing Primer\": \"ggtgagaatccaggggtcc\",\n",
    "            \"Bacterial Resistance\": \"Spectinomycin\" if assembly_digest.assembly.marker == \"Streptomycin/Spectinomycin\" else assembly_digest.assembly.marker,\n",
    "            \"high or low copy\": \"Low Copy\",\n",
    "            \"Growth Temp\": \"30 C\" if assembly_digest.assembly.ori == \"temperature sensitive pSC101\" else \"37 C\",\n",
    "            \"Growth Strain\": \"DH5alpha\",\n",
    "            \"Hazardous\": \"No\",\n",
    "            \"Patents or Licenses\": \"No\",\n",
    "            \"Comments\": \"Cloning Method: BASIC DNA assembly\",\n",
    "            \"Sequence:Full\": str(assembly_digest.assembly.return_seqrec().seq)\n",
    "        }\n",
    "    )\n",
    "with open(PATH_TO_CSVS / \"BASIC_SEVA_10_addgene_batch_upload.csv\", \"w\", newline=\"\") as csvf:\n",
    "    writer = csv.DictWriter(csvf, ADDGENE_FIELDNAMES)\n",
    "    writer.writeheader()\n",
    "    writer.writerows(rows)  \n"
   ]
  },
  {
   "cell_type": "code",
   "execution_count": 10,
   "metadata": {},
   "outputs": [
    {
     "name": "stdout",
     "output_type": "stream",
     "text": [
      "{\n",
      "    \"BASIC_SEVA_15a.10\": \"15a\",\n",
      "    \"BASIC_SEVA_16.10\": \"16\",\n",
      "    \"BASIC_SEVA_17.10\": \"17\",\n",
      "    \"BASIC_SEVA_19.10\": \"19\",\n",
      "    \"BASIC_SEVA_17_pKD46.10\": \"17_pKD46\",\n",
      "    \"BASIC_SEVA_25a.10\": \"25a\",\n",
      "    \"BASIC_SEVA_26.10\": \"26\",\n",
      "    \"BASIC_SEVA_27.10\": \"27\",\n",
      "    \"BASIC_SEVA_29.10\": \"29\",\n",
      "    \"BASIC_SEVA_27_pKD46.10\": \"27_pKD46\",\n",
      "    \"BASIC_SEVA_35a.10\": \"35a\",\n",
      "    \"BASIC_SEVA_36.10\": \"36\",\n",
      "    \"BASIC_SEVA_37.10\": \"37\",\n",
      "    \"BASIC_SEVA_39.10\": \"39\",\n",
      "    \"BASIC_SEVA_37_pKD46.10\": \"37_pKD46\",\n",
      "    \"BASIC_SEVA_45a.10\": \"45a\",\n",
      "    \"BASIC_SEVA_46.10\": \"46\",\n",
      "    \"BASIC_SEVA_47.10\": \"47\",\n",
      "    \"BASIC_SEVA_49.10\": \"49\",\n",
      "    \"BASIC_SEVA_47_pKD46.10\": \"47_pKD46\",\n",
      "    \"BASIC_SEVA_5a5a.10\": \"5a5a\",\n",
      "    \"BASIC_SEVA_5a6.10\": \"5a6\",\n",
      "    \"BASIC_SEVA_5a7.10\": \"5a7\",\n",
      "    \"BASIC_SEVA_5a9.10\": \"5a9\",\n",
      "    \"BASIC_SEVA_5a7_pKD46.10\": \"5a7_pKD46\",\n",
      "    \"BASIC_SEVA_65a.10\": \"65a\",\n",
      "    \"BASIC_SEVA_66.10\": \"66\",\n",
      "    \"BASIC_SEVA_67.10\": \"67\",\n",
      "    \"BASIC_SEVA_69.10\": \"69\",\n",
      "    \"BASIC_SEVA_67_pKD46.10\": \"67_pKD46\"\n",
      "}\n"
     ]
    }
   ],
   "source": [
    "abbreviation_df = {\n",
    "    assembly.id: assembly.abbreviation for assembly in build.basic_assemblies\n",
    "}\n",
    "print(json.dumps(abbreviation_df, indent=4))"
   ]
  },
  {
   "cell_type": "code",
   "execution_count": 11,
   "metadata": {},
   "outputs": [
    {
     "name": "stdout",
     "output_type": "stream",
     "text": [
      "Mean plasmid size: 4025.4\n"
     ]
    }
   ],
   "source": [
    "print(f\"Mean plasmid size: {np.mean(np.array([len(assembly.return_part()) for assembly in build.basic_assemblies]))}\")"
   ]
  },
  {
   "cell_type": "markdown",
   "metadata": {},
   "source": [
    "## Aims/objectives for cell/s below\n",
    "\n",
    "- [x] Export sequence flanked by *i*P and *i*S regions in oris for use by [cmatch](https://github.com/kitneylab/cmatch) to validate assemblies."
   ]
  },
  {
   "cell_type": "code",
   "execution_count": 12,
   "metadata": {},
   "outputs": [],
   "source": [
    "core_ori_seqs = [ori.basic_slice() for ori in oris]\n",
    "for core_ori_seq in core_ori_seqs:\n",
    "    SeqIO.write(\n",
    "        core_ori_seq,\n",
    "        PATH_TO_SEQS / \"genbank_files\" / \"BASIC_SEVA_collection\" / \"misc_seqs\" / f\"{core_ori_seq.id}_core_seq.gb\",\n",
    "        \"genbank\"\n",
    "    )\n",
    "    "
   ]
  },
  {
   "cell_type": "markdown",
   "metadata": {},
   "source": [
    "## Results and discussion\n",
    "\n",
    "- Additional sequencing via NGS identified point mutations in LMP & LMS linkers for two constructs. Likely a result of these sequences being chemically synthesised.\n",
    "- A common deletion in the gentamycin cassette was identified. This may increase plasmid copy number increasing mScarlet expression, explaining why it was selected.\n",
    "- Re-evaluation of plate containing BASIC_SEVA_69.10 constructs showed the majority of constructs were not pink. Suggests expression of mScarlet cassette not strong enough.  "
   ]
  },
  {
   "cell_type": "markdown",
   "metadata": {},
   "source": [
    "# Aims and objectives for cell/s below\n",
    "\n",
    "- [x] Export sequence data and build instructions for assembling BASIC_SEVA_69.10 with:\n",
    "  - B405_J23106-RBS34-mScarl\n",
    "  - B407_J23119-RBS34-mScarl"
   ]
  },
  {
   "cell_type": "code",
   "execution_count": 13,
   "metadata": {},
   "outputs": [
    {
     "data": {
      "text/plain": [
       "'/home/hainesm6/github_repos/LondonBiofoundry/basicsynbio/pdfs/BASIC_SEVA_69_build.pdf'"
      ]
     },
     "execution_count": 13,
     "metadata": {},
     "output_type": "execute_result"
    }
   ],
   "source": [
    "BS_6XX = [marker for marker in abr_markers if marker.id == \"BS_6xx\"][0]\n",
    "BS_X9X = [ori for ori in oris if ori.id == \"BS_x9x\"][0]\n",
    "B405 = [\n",
    "    cassette for cassette in cs_cassettes if cassette.id == \"B405_J23106-RBS34-mScarl\"\n",
    "][0]\n",
    "B407 = [\n",
    "    cassette for cassette in cs_cassettes if cassette.id == \"B407_J23119-RBS34-mScarl\"\n",
    "][0]\n",
    "bs_69_build = bsb.BasicBuild(\n",
    "    bsb.BasicAssembly(\n",
    "        \"b405\",\n",
    "        linkers[\"LMP\"],\n",
    "        BS_6XX,        \n",
    "        bb_linker,\n",
    "        BS_X9X,\n",
    "        linkers[\"LMS\"],\n",
    "        B405\n",
    "    ),\n",
    "    bsb.BasicAssembly(\n",
    "        \"b407\",\n",
    "        linkers[\"LMP\"],\n",
    "        BS_6XX,        \n",
    "        bb_linker,\n",
    "        BS_X9X,\n",
    "        linkers[\"LMS\"],\n",
    "        B407\n",
    "    )\n",
    ")\n",
    "bsb.export_sequences_to_file(\n",
    "    (assembly.return_part(\n",
    "        name=assembly.id,\n",
    "        id=seqrecord_hexdigest(assembly.return_part())\n",
    "    ) for assembly in bs_69_build.basic_assemblies),\n",
    "    PATH_TO_SEQS / \"genbank_files\" / \"BASIC_SEVA_collection\" / \"misc_seqs\" / \"BASIC_SEVA_69_constructs.gb\"\n",
    ")\n",
    "bsb.pdf_instructions(\n",
    "    bs_69_build,\n",
    "    \"/home/hainesm6/github_repos/LondonBiofoundry/basicsynbio/pdfs/BASIC_SEVA_69_build.pdf\"\n",
    ")"
   ]
  },
  {
   "cell_type": "markdown",
   "metadata": {},
   "source": [
    "## Aims and objectives for the cell/s below\n",
    "\n",
    "- [ ] Export build instructions for BASIC_SEVA_37_pKD46."
   ]
  },
  {
   "cell_type": "code",
   "execution_count": 20,
   "metadata": {},
   "outputs": [
    {
     "name": "stdout",
     "output_type": "stream",
     "text": [
      "['BS_3xx', 'BS_x7x_pKD46', 'B408_J23119-RBS-A12-mSc']\n"
     ]
    }
   ],
   "source": [
    "BS_3XX = [marker for marker in abr_markers if marker.id==\"BS_3xx\"][0]\n",
    "BS_X7X_PKD46 = [ori for ori in oris if ori.id==\"BS_x7x_pKD46\"][0]\n",
    "B408 = [cassette for cassette in cs_cassettes if cassette.id==\"B408_J23119-RBS-A12-mSc\"][0]\n",
    "bs_37_pkd46_assem = bsb.BasicAssembly(\n",
    "    \"BASIC_SEVA_37_pKD46.10\",\n",
    "    linkers[\"LMP\"],\n",
    "    BS_3XX,\n",
    "    bb_linker,\n",
    "    BS_X7X_PKD46,\n",
    "    linkers[\"LMS\"],\n",
    "    B408,\n",
    ")\n",
    "\n",
    "# Want to check the sequence is equivalent to the original\n",
    "original_bs_37_pkd46 = [assembly for assembly in assemblies if assembly.id==\"BASIC_SEVA_37_pKD46.10\"][0]\n",
    "assert bs_37_pkd46_assem.return_part().seq == original_bs_37_pkd46.return_part().seq\n",
    "bs_37_pkd46_build = bsb.BasicBuild(bs_37_pkd46_assem)\n",
    "\n",
    "bsb.pdf_instructions(\n",
    "    bs_37_pkd46_build,\n",
    "    \"/home/hainesm6/github_repos/LondonBiofoundry/basicsynbio/pdfs/BASIC_SEVA_37_pKD46_build.pdf\"\n",
    ")\n",
    "\n",
    "# pdf doesn't print the entire part name for BS_x7x_pKD46\n",
    "print([clip._part.id for clip in bs_37_pkd46_build.clips_data])\n",
    "\n"
   ]
  }
 ],
 "metadata": {
  "interpreter": {
   "hash": "83f92c1be44bac50466b60487936925004814ca6656ec44417072e5cf88a8248"
  },
  "kernelspec": {
   "display_name": "Python 3.8.12 64-bit ('basicsynbio': pyenv)",
   "language": "python",
   "name": "python3"
  },
  "language_info": {
   "codemirror_mode": {
    "name": "ipython",
    "version": 3
   },
   "file_extension": ".py",
   "mimetype": "text/x-python",
   "name": "python",
   "nbconvert_exporter": "python",
   "pygments_lexer": "ipython3",
   "version": "3.8.12"
  },
  "orig_nbformat": 4
 },
 "nbformat": 4,
 "nbformat_minor": 2
}
