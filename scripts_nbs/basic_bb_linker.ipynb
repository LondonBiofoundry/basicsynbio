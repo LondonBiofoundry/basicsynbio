{
 "metadata": {
  "language_info": {
   "codemirror_mode": {
    "name": "ipython",
    "version": 3
   },
   "file_extension": ".py",
   "mimetype": "text/x-python",
   "name": "python",
   "nbconvert_exporter": "python",
   "pygments_lexer": "ipython3",
   "version": "3.8.5"
  },
  "orig_nbformat": 4,
  "kernelspec": {
   "name": "python3",
   "display_name": "Python 3.8.5 64-bit ('basicsynbio': pyenv)"
  },
  "interpreter": {
   "hash": "57f97546b8e059ecb785e5a83a832483957e404968430921b0ed5f9de2bd71dc"
  }
 },
 "nbformat": 4,
 "nbformat_minor": 2,
 "cells": [
  {
   "source": [
    "# Design of a BASIC linker for the backbone collection\n",
    "\n",
    "This notebook contains code relating to the design of a linker to join parts needed to generate BASIC DNA assembly backbones.\n",
    "\n",
    "## Aims and objectives for cells below\n",
    "\n",
    "- Generate a unique job ID for the r2o job specification."
   ],
   "cell_type": "markdown",
   "metadata": {}
  },
  {
   "cell_type": "code",
   "execution_count": 36,
   "metadata": {},
   "outputs": [],
   "source": [
    "import hashlib\n",
    "import basicsynbio as bsb\n",
    "from basicsynbio.utils import all_feature_values, feature_from_qualifier\n",
    "from basicsynbio.cam import seqrecord_hexdigest\n",
    "import re\n",
    "from pathlib import Path"
   ]
  },
  {
   "cell_type": "code",
   "execution_count": 10,
   "metadata": {},
   "outputs": [
    {
     "output_type": "stream",
     "name": "stdout",
     "text": [
      "92f0817faf716045872b354b5b2482a7\n"
     ]
    }
   ],
   "source": [
    "print(hashlib.md5(\"basic_bb_linker_001\".encode(\"UTF-8\")).hexdigest())\n"
   ]
  },
  {
   "source": [
    "## Aims and objectives for cells below\n",
    "\n",
    "- Generate sequence for specification file.\n",
    "\n",
    "## Notes of sequence generation\n",
    "\n",
    "- The original neutral linker designs were 45 bp in length. To this the necessary 8 bases required for ligation to BsaI digested parts were added, yielding 53 bp sequences.\n",
    "\n"
   ],
   "cell_type": "markdown",
   "metadata": {}
  },
  {
   "cell_type": "code",
   "execution_count": 12,
   "metadata": {},
   "outputs": [
    {
     "output_type": "stream",
     "name": "stdout",
     "text": [
      "Format GGCTCGNNNNNNNNNNNNNNNNNNNNNNNNNNNNNNNNNNNNNNNNNNNNNGTCC\n"
     ]
    }
   ],
   "source": [
    "format = \"GGCTCG\" + 45*\"N\" + \"GTCC\"\n",
    "print(\"Format \" + format)\n",
    "assert len(format) == 53 + 2"
   ]
  },
  {
   "source": [
    "## Notes on parameter generation\n",
    "\n",
    "- Each prefix and suffix half contained in addition to required homology to BsaI-digested parts a 12 bp double stranded region and a 21 base ss overlap region driving annealing between linker-ligated-parts. The target Tm for the ss region was set to 60 °C.\n",
    "- The overall target GC content of the linker was set to 40 %, similar to the original linker designs.\n",
    "- Some forbidden sequences:\n",
    "    - BsaI restriction site: GGTCTC\n",
    "    - Prefix 4 bp overhang and rc: GTCC & rc\n",
    "    - Suffix 4 bp overhang and rc: CTCG & rc\n",
    "    - Various E. coli promoter sites: (refer to r2o job spec file)\n",
    "    - G-quadruplex: GGGG\n",
    "    - Translation initiation site: ATG\n",
    "    - RBS core: AAAGA\n",
    "    - SD sequence: AGGAGG\n",
    "    - IS10 site: NGCTNAGCN\n",
    "    - IS231 ste: GGGNNNNNCCC\n",
    "    - More detailed in the specification job file."
   ],
   "cell_type": "markdown",
   "metadata": {}
  },
  {
   "source": [
    "## Aims and objectives for cell/s below\n",
    "\n",
    "- Export key sequences from basicsynbio as a FASTA file. The backbone linker should have low homology to these sequences."
   ],
   "cell_type": "markdown",
   "metadata": {}
  },
  {
   "cell_type": "code",
   "execution_count": 42,
   "metadata": {},
   "outputs": [],
   "source": [
    "# Avoid homology between existing Biolegio linkers and promoters\n",
    "collections = (bsb.BASIC_PROMOTER_PARTS[\"v0.2\"], bsb.BASIC_BIOLEGIO_LINKERS[\"v0.1\"])\n",
    "sequences = [value.basic_slice() for collection in collections for value in collection.values()]\n",
    "\n",
    "\n",
    "# Avoid homology between SEVA terminators \"SEVA_TO\", \"SEVA_T1\".\n",
    "\n",
    "# Avoid homology against the following resistance cassettes: Amp, Kan, Cam, Spec, Tet, Gen (SEVA 1 - 6 inc.)\n",
    "\n",
    "# Avoid homology against the following oris: p15A, pSC101, pUC and pBR322-ROP (_6 - _9). NB pSC101 has high homology with it's temperature sensitive variant\n",
    "\n",
    "seva_abr_nums = [num for num in range(18, 78, 10)]\n",
    "seva_ori_nums = [num for num in range(16, 20)]\n",
    "seva_nums = set(seva_abr_nums + seva_ori_nums)\n",
    "seva_seqrecs = [bsb.BASIC_SEVA_PARTS[\"v0.1\"][str(num)].to_seqrec() for num in seva_nums]\n",
    "for seva_seqrec in seva_seqrecs:\n",
    "    for feature in seva_seqrec.features:\n",
    "        if re.match(\"SEVA_[a-z]*\", feature.qualifiers[\"label\"][0]):\n",
    "            sequences.append(feature.extract(seva_seqrec))\n",
    "# Get unique SEVA features and assign attributes\n",
    "seen = set()\n",
    "sequences = [seen.add(obj.features[0].qualifiers[\"label\"][0]) or obj for obj in sequences if obj.features[0].qualifiers[\"label\"][0] not in seen]\n",
    "for sequence in sequences:\n",
    "    sequence.name = sequence.features[0].qualifiers[\"label\"][0]\n",
    "    sequence.description = sequence.name\n",
    "    sequence.id = seqrecord_hexdigest(sequence)\n",
    "path_to_seqs = Path.cwd().parents[0] / \"sequences\"\n",
    "bsb.export_sequences_to_file(sequences, path_to_seqs / \"fasta_files\" / \"seqs_to_avoid_for_bb_linker.fasta\", \"fasta\")\n",
    "\n",
    "\n",
    "\n"
   ]
  }
 ]
}