{
 "metadata": {
  "language_info": {
   "codemirror_mode": {
    "name": "ipython",
    "version": 3
   },
   "file_extension": ".py",
   "mimetype": "text/x-python",
   "name": "python",
   "nbconvert_exporter": "python",
   "pygments_lexer": "ipython3",
   "version": "3.8.5"
  },
  "orig_nbformat": 4,
  "kernelspec": {
   "name": "python3",
   "display_name": "Python 3.8.5 64-bit ('basicsynbio': pyenv)"
  },
  "interpreter": {
   "hash": "57f97546b8e059ecb785e5a83a832483957e404968430921b0ed5f9de2bd71dc"
  }
 },
 "nbformat": 4,
 "nbformat_minor": 2,
 "cells": [
  {
   "source": [
    "# Integration of basicsynbio and DNA chisel\n",
    "\n",
    "This notebook explores the integration of DNA chisel into basicsynbio for linker design purposes\n",
    "\n",
    "## Aims and objectives for cell/s below\n",
    "\n",
    "- [ ] Try out DNA Chisel with easy to implement constraints.\n",
    "- [ ] Make a Bowtie 2 file for sequences that will be present in the basicsynbio PartLinkerCollections.\n",
    "- [ ] Run DNA Chisel to generate the backbone linker for the addgene collection."
   ],
   "cell_type": "markdown",
   "metadata": {}
  },
  {
   "cell_type": "code",
   "execution_count": 1,
   "metadata": {},
   "outputs": [],
   "source": [
    "from dnachisel import (\n",
    "    AvoidMatches,\n",
    "    AvoidPattern,\n",
    "    DnaOptimizationProblem,\n",
    "    EnforceGCContent,\n",
    "    EnforceMeltingTemperature,\n",
    "    EnzymeSitePattern,\n",
    "    random_dna_sequence,\n",
    ")"
   ]
  },
  {
   "cell_type": "code",
   "execution_count": 9,
   "metadata": {},
   "outputs": [
    {
     "output_type": "stream",
     "name": "stderr",
     "text": [
      "constraint:   0%|          | 0/21 [00:00<?, ?it/s, now=AvoidPattern[0-55](patter...]\n",
      "\n",
      "location:   0%|          | 0/2 [00:00<?, ?it/s, now=None]\u001b[A\u001b[A\n",
      "\n",
      "location:   0%|          | 0/2 [00:00<?, ?it/s, now=10-13(+)]\u001b[A\u001b[A\n",
      "\n",
      "                                                             \u001b[A\u001b[A\n",
      "\n",
      "location:   0%|          | 0/1 [00:00<?, ?it/s, now=10-13(+)]\u001b[A\u001b[A\n",
      "\n",
      "location:   0%|          | 0/1 [00:00<?, ?it/s, now=13-34]   \u001b[A\u001b[A\n",
      "\n",
      "                                                          \u001b[A\u001b[A\n",
      "\n",
      "location:   0%|          | 0/1 [00:00<?, ?it/s, now=13-34]\u001b[A\u001b[A\n",
      "\n",
      "                                                                                    ===> SUCCESS - all constraints evaluations pass\n",
      "✔PASS ┍ EnforceMeltingTemperature[13-34]\n",
      "      │ Tm = 57.8\n",
      "✔PASS ┍ AvoidPattern[0-55](pattern:EcoRI(GAATTC))\n",
      "      │ Passed. Pattern not found !\n",
      "✔PASS ┍ AvoidPattern[0-55](pattern:SpeI(ACTAGT))\n",
      "      │ Passed. Pattern not found !\n",
      "✔PASS ┍ AvoidPattern[0-55](pattern:XbaI(TCTAGA))\n",
      "      │ Passed. Pattern not found !\n",
      "✔PASS ┍ AvoidPattern[0-55](pattern:PstI(CTGCAG))\n",
      "      │ Passed. Pattern not found !\n",
      "✔PASS ┍ AvoidPattern[0-55](pattern:BsaI(GGTCTC))\n",
      "      │ Passed. Pattern not found !\n",
      "✔PASS ┍ AvoidPattern[0-55](pattern:BsmBI(CGTCTC))\n",
      "      │ Passed. Pattern not found !\n",
      "✔PASS ┍ AvoidPattern[0-55](pattern:TTGACA)\n",
      "      │ Passed. Pattern not found !\n",
      "✔PASS ┍ AvoidPattern[0-55](pattern:TATAAT)\n",
      "      │ Passed. Pattern not found !\n",
      "✔PASS ┍ AvoidPattern[0-55](pattern:TTGNNNNNNNNNNNNNNNNNNNNTATNNT)\n",
      "      │ Passed. Pattern not found !\n",
      "✔PASS ┍ AvoidPattern[0-55](pattern:TGGCACGNNNNTTGC)\n",
      "      │ Passed. Pattern not found !\n",
      "✔PASS ┍ AvoidPattern[0-55](pattern:GAACTNNNNNNNNNNNNNNNNGTCNNA)\n",
      "      │ Passed. Pattern not found !\n",
      "✔PASS ┍ AvoidPattern[0-55](pattern:AAAGA)\n",
      "      │ Passed. Pattern not found !\n",
      "✔PASS ┍ AvoidPattern[0-55](pattern:AGGAGG)\n",
      "      │ Passed. Pattern not found !\n",
      "✔PASS ┍ AvoidPattern[0-55](pattern:ATG)\n",
      "      │ Passed. Pattern not found !\n",
      "✔PASS ┍ AvoidPattern[0-55](pattern:TTATNCACA)\n",
      "      │ Passed. Pattern not found !\n",
      "✔PASS ┍ AvoidPattern[0-55](pattern:TGTGANNNNNNTCACANT)\n",
      "      │ Passed. Pattern not found !\n",
      "✔PASS ┍ AvoidPattern[0-55](pattern:NGCTNAGCN)\n",
      "      │ Passed. Pattern not found !\n",
      "✔PASS ┍ AvoidPattern[0-55](pattern:GGGNNNNNCCC)\n",
      "      │ Passed. Pattern not found !\n",
      "✔PASS ┍ AvoidPattern[0-55](pattern:(G{3,}[ATGC]{1,7}){3,}G{3,})\n",
      "      │ Passed. Pattern not found !\n",
      "✔PASS ┍ AvoidPattern[0-55](pattern:GGGG)\n",
      "      │ Passed. Pattern not found !\n",
      "\n",
      "\n",
      "GGCTCGTTAGATGATTATTCATACACAGAAGGCAGCCTAACTGCTTTGTCTGTCC\n",
      "GGCTCGTTAGATTACGCCTCAGACACAGAACGGAGCCTAACTGCTTTGTCTGTCC\n"
     ]
    }
   ],
   "source": [
    "linker_base_sequence = \"GGCTCG\" + random_dna_sequence(45, seed=10) + \"GTCC\"\n",
    "constraints = (\n",
    "    EnforceMeltingTemperature(mini=55, maxi=65, location=(13, 34)),\n",
    "    AvoidPattern(EnzymeSitePattern(\"EcoRI\")),\n",
    "    AvoidPattern(EnzymeSitePattern(\"SpeI\")),\n",
    "    AvoidPattern(EnzymeSitePattern(\"XbaI\")),\n",
    "    AvoidPattern(EnzymeSitePattern(\"PstI\")),\n",
    "    AvoidPattern(EnzymeSitePattern(\"BsaI\")),\n",
    "    AvoidPattern(EnzymeSitePattern(\"BsmBI\")),\n",
    "    AvoidPattern(\"TTGACA\"), # E.coli sig70 -35 site\n",
    "    AvoidPattern(\"TATAAT\"), # E.coli sig70 -10 site\n",
    "    AvoidPattern(\"TTGNNNNNNNNNNNNNNNNNNNNTATNNT\"), # E.coli sig70 promoter weak consensus,\n",
    "    AvoidPattern(\"TGGCACGNNNNTTGC\"), # E.coli sig54 promoter consensus\n",
    "    AvoidPattern(\"GAACTNNNNNNNNNNNNNNNNGTCNNA\"), # E.coli sig24 promoter consensus\n",
    "    AvoidPattern(\"AAAGA\"), # RBS\n",
    "    AvoidPattern(\"AGGAGG\"), # Shine-Dalgarno sequence or 2xArg bad codon\n",
    "    AvoidPattern(\"ATG\"), # Start codon\n",
    "    AvoidPattern(\"TTATNCACA\"), # DnaA binding sites\n",
    "    AvoidPattern(\"TGTGANNNNNNTCACANT\"), # CAP binding sites\n",
    "    AvoidPattern(\"NGCTNAGCN\"), # IS10 insertion site\n",
    "    AvoidPattern(\"GGGNNNNNCCC\"), # IS231 insertion site\n",
    "    AvoidPattern(\"(G{3,}[ATGC]{1,7}){3,}G{3,}\"), # G-quadruplex\n",
    "    AvoidPattern(\"GGGG\"), # G-quadruplex\n",
    ")\n",
    "problem = DnaOptimizationProblem(\n",
    "    sequence=linker_base_sequence,\n",
    "    constraints=constraints\n",
    ")\n",
    "problem.resolve_constraints()\n",
    "print(problem.constraints_text_summary())\n",
    "print(linker_base_sequence)\n",
    "print(problem.sequence)\n",
    "\n",
    "\n",
    "\n"
   ]
  },
  {
   "cell_type": "code",
   "execution_count": 11,
   "metadata": {},
   "outputs": [
    {
     "output_type": "stream",
     "name": "stdout",
     "text": [
      "Help on class AvoidMatches in module dnachisel.builtin_specifications.AvoidMatches:\n\nclass AvoidMatches(dnachisel.Specification.Specification.Specification)\n |  AvoidMatches(match_length, bowtie_index=None, sequences=None, mismatches=0, location=None, boost=1)\n |  \n |  Enforce that the sequence has no matches longer than N in a given index.\n |  \n |  This specification can be used to ensure that a sequence has no matches\n |  with a given organism, or a set of sequences, which can be useful to\n |  create orthogonal sequences or primer-friendly regions.\n |  \n |  This specification uses Bowtie in the background and requires Bowtie\n |  installed on your machine (it can be as simple as ``apt install bowtie``\n |  on Ubuntu).\n |  \n |  It allows you to specify the ``match_length`` such that no subsegment of\n |  size match_length or more has any homology in the given bowtie index (which\n |  can be built from genomes using e.g. the genome_collector library). An\n |  homology can mean either perfect similarity, or up to 3 mismatches.\n |  \n |  \n |  Examples\n |  --------\n |  \n |  Here is how you automatically get a Bowtie index link with Genome Collector\n |  (it will build the index if it is not yet on your machine), and use the\n |  result to create an ``AvoidMatches`` specification:\n |  \n |  >>> from genome_collector import GenomeCollection\n |  >>> collection = GenomeCollection()\n |  >>> e_coli = collection.get_taxid_bowtie_index_path(511145, version=\"1\")\n |  >>> spec = AvoidMatches(bowtie_index=e_coli, match_length=15, mismatches=1)\n |  \n |  Parameters\n |  ----------\n |  \n |  bowtie_index\n |    Path to a local bowtie2 index.\n |  \n |  match_length\n |    Length of the matches to avoid\n |  \n |  mismatches\n |    Number of single-nucleotide mismatches allowed inside each match. Only\n |    0-3 mismatches is supported (this is what Bowtie supports.)\n |  \n |  location\n |    Location of the sequence on which the specification applies\n |  \n |  Method resolution order:\n |      AvoidMatches\n |      dnachisel.Specification.Specification.Specification\n |      dnachisel.Specification.FeatureRepresentationMixin.FeatureRepresentationMixin\n |      builtins.object\n |  \n |  Methods defined here:\n |  \n |  __init__(self, match_length, bowtie_index=None, sequences=None, mismatches=0, location=None, boost=1)\n |      Initialize.\n |  \n |  evaluate(self, problem)\n |      Find matches and count them negatively\n |  \n |  feature_label_parameters(self)\n |  \n |  initialized_on_problem(self, problem, role=None)\n |      Complete specification initialization when the sequence gets known.\n |      \n |      Some specifications like to know what their role is and on which\n |      sequence they are employed before they complete some values.\n |  \n |  localized(self, location, problem=None, with_righthand=True)\n |      Localize the evaluation.\n |  \n |  remove_temp_directory(self)\n |  \n |  ----------------------------------------------------------------------\n |  Data and other attributes defined here:\n |  \n |  best_possible_score = 0\n |  \n |  blasts_paths = {}\n |  \n |  bowtie_indexes_paths = None\n |  \n |  priority = -2\n |  \n |  shorthand_name = 'no_match'\n |  \n |  ----------------------------------------------------------------------\n |  Methods inherited from dnachisel.Specification.Specification.Specification:\n |  \n |  __repr__(self)\n |      By default, represent the Specification using its label()\n |  \n |  __str__(self)\n |      By default, represent the Specification using its label()\n |  \n |  as_passive_objective(self)\n |      Return a copy with optimize_passively set to true.\n |      \n |      \"Optimize passively\" means that when the specification is used as an\n |      objective, the solver will not do a specific pass to optimize this\n |      specification, however this specification's score will be taken into\n |      account in the global score when optimizing other objectives, and\n |      may therefore influence the final sequence.\n |  \n |  breach_label(self)\n |      Shorter, less precise label to be used in tables, reports, etc.\n |      \n |      This is meant for specifications such as EnforceGCContent(0.4, 0.6)\n |      to be represented as '40-60% GC' in reports tables etc..\n |  \n |  copy_with_changes(self, **kwargs)\n |      Return a copy of the Specification with modified properties.\n |      \n |      For instance ``new_spec = spec.copy_with_changes(boost=10)``.\n |  \n |  label(self, role=None, with_location=True, assignment_symbol=':', use_short_form=False, use_breach_form=False)\n |      Return a string label for this specification.\n |      \n |      Parameters\n |      ----------\n |      \n |      role\n |        Either 'constraint' or 'objective' (for prefixing the label with @\n |        or ~), or None.\n |      \n |      with_location\n |        If true, the location will appear in the label.\n |      \n |      assignment_symbol\n |        Indicates whether to use \":\" or \"=\" or anything else when indicating\n |        parameters values.\n |      \n |      use_short_form\n |        If True, the label will use self.short_label(), so for instance\n |        AvoidPattern(BsmBI_site) will become \"no BsmBI\". How this is handled\n |        is dependent on the specification.\n |  \n |  label_parameters(self)\n |      In subclasses, returns a list of the creation parameters.\n |      \n |      For instance [('pattern', 'ATT'), ('occurences', 2)]\n |  \n |  restrict_nucleotides(self, sequence, location=None)\n |      Restrict the mutation space to speed up optimization.\n |      \n |      This method only kicks in when this specification is used as a\n |      constraint. By default it does nothing, but subclasses such as\n |      EnforceTranslation, AvoidChanges, EnforceSequence, etc. have custom\n |      methods.\n |      \n |      In the code, this method is run during the initialize() step of\n |      DNAOptimizationProblem, when the MutationSpace is created for each\n |      constraint\n |  \n |  shifted(self, shift)\n |      Shift the location of the specification.\n |      \n |      Some specification classes may have a special method to do side effects\n |      when shifting the location.\n |      \n |      Location shifting is used in particular when solving circular DNA\n |      optimization problems.\n |  \n |  short_label(self)\n |      Shorter, less precise label to be used in tables, reports, etc.\n |      \n |      This is meant for specifications such as EnforceGCContent(0.4, 0.6)\n |      to be represented as '40-60% GC' in reports tables etc..\n |  \n |  ----------------------------------------------------------------------\n |  Data and other attributes inherited from dnachisel.Specification.Specification.Specification:\n |  \n |  DEFAULT_SPECIFICATIONS_DICT = {'AllowPrimer': <class 'dnachisel.builti...\n |  \n |  enforced_by_nucleotide_restrictions = False\n |  \n |  is_focus = False\n |  \n |  optimize_passively = False\n |  \n |  ----------------------------------------------------------------------\n |  Methods inherited from dnachisel.Specification.FeatureRepresentationMixin.FeatureRepresentationMixin:\n |  \n |  to_biopython_feature(self, feature_type='misc_feature', role='constraint', colors_dict=None, use_short_label=True, **qualifiers)\n |      Return a Biopython feature representing the specification.\n |      \n |      The feature label is a string representation of the specification,\n |      and its location indicates the specification's scope.\n |      \n |      This method is primarily meant to display specifications in Genbank.\n |      They may result in \"viable\", DnaChisel-compatible annotations that can\n |      be imported back into DNA Chisel, but this is not the intended goal.\n |  \n |  ----------------------------------------------------------------------\n |  Class methods inherited from dnachisel.Specification.FeatureRepresentationMixin.FeatureRepresentationMixin:\n |  \n |  from_label(label, location, specifications_dict='default') from builtins.type\n |  \n |  list_from_biopython_feature(feature, specifications_dict='default') from builtins.type\n |      Parse a Biopython feature to create an annotation.\n |      \n |      The specifications_dict enables to map specification names to the\n |      actual implemented class.\n |  \n |  list_from_label(label, location, specifications_dict='default') from builtins.type\n |      Return a list of all specs defined in the string label.\n |      \n |      The labels are normal spec labels, like @no(BsmBI_site), separated\n |      by the \"&\" symbol.\n |  \n |  ----------------------------------------------------------------------\n |  Data descriptors inherited from dnachisel.Specification.FeatureRepresentationMixin.FeatureRepresentationMixin:\n |  \n |  __dict__\n |      dictionary for instance variables (if defined)\n |  \n |  __weakref__\n |      list of weak references to the object (if defined)\n\n"
     ]
    }
   ],
   "source": [
    "help(AvoidMatches)"
   ]
  }
 ]
}