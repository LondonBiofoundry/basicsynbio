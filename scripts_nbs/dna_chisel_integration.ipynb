{
 "metadata": {
  "language_info": {
   "codemirror_mode": {
    "name": "ipython",
    "version": 3
   },
   "file_extension": ".py",
   "mimetype": "text/x-python",
   "name": "python",
   "nbconvert_exporter": "python",
   "pygments_lexer": "ipython3",
   "version": "3.8.5"
  },
  "orig_nbformat": 4,
  "kernelspec": {
   "name": "python3",
   "display_name": "Python 3.8.5 64-bit ('basicsynbio': pyenv)"
  },
  "interpreter": {
   "hash": "a9ef394515f7bdfc1a2fdab82219cc959d35a48d1a80fecda128203466856ae6"
  }
 },
 "nbformat": 4,
 "nbformat_minor": 2,
 "cells": [
  {
   "cell_type": "markdown",
   "source": [
    "# Integration of basicsynbio and DNA chisel\n",
    "\n",
    "This notebook explores the integration of DNA chisel into basicsynbio for linker design purposes\n",
    "\n",
    "## Aims and objectives for cell/s below\n",
    "\n",
    "- [x] Try out DNA Chisel with easy to implement constraints.\n",
    "- [x] Make a Bowtie 2 file for sequences that will be present in the basicsynbio PartLinkerCollections.\n",
    "- [x] Run DNA Chisel to generate the backbone linker for the addgene collection."
   ],
   "metadata": {}
  },
  {
   "cell_type": "code",
   "execution_count": 8,
   "source": [
    "import basicsynbio as bsb\n",
    "from basicsynbio.main import DEFAULT_ANNOTATIONS\n",
    "from basicsynbio.cam.main import seqrecord_hexdigest\n",
    "from Bio import (\n",
    "    Entrez,\n",
    "    SeqIO\n",
    ")\n",
    "from Bio.Seq import Seq\n",
    "from Bio.SeqRecord import SeqRecord\n",
    "from Bio.SeqUtils import MeltingTemp as mt\n",
    "from dataclasses import dataclass\n",
    "from dnachisel import (\n",
    "    AvoidChanges,\n",
    "    AvoidMatches,\n",
    "    AvoidPattern,\n",
    "    DnaOptimizationProblem,\n",
    "    EnforceGCContent,\n",
    "    EnforceMeltingTemperature,\n",
    "    EnzymeSitePattern,\n",
    "    random_dna_sequence,\n",
    ")\n",
    "from pathlib import Path\n",
    "import pickle\n"
   ],
   "outputs": [],
   "metadata": {}
  },
  {
   "cell_type": "code",
   "execution_count": 3,
   "source": [
    "UPSTREAM_SCAR = \"GGCTCG\"\n",
    "DOWNSTREAM_SCAR = \"GTCC\"\n",
    "overhang_indicies = (\n",
    "    len(UPSTREAM_SCAR) + 12,\n",
    "    len(UPSTREAM_SCAR) + 12 + 21\n",
    ")\n",
    "linker_base_sequence = UPSTREAM_SCAR + random_dna_sequence(45, seed=123) + DOWNSTREAM_SCAR\n",
    "assert len(linker_base_sequence[overhang_indicies[0]:overhang_indicies[1]]) == 21\n",
    "constraints = [\n",
    "    EnforceMeltingTemperature(mini=50, maxi=65, location=(overhang_indicies[0], overhang_indicies[1])),\n",
    "    AvoidPattern(EnzymeSitePattern(\"EcoRI\")),\n",
    "    AvoidPattern(EnzymeSitePattern(\"SpeI\")),\n",
    "    AvoidPattern(EnzymeSitePattern(\"XbaI\")),\n",
    "    AvoidPattern(EnzymeSitePattern(\"PstI\")),\n",
    "    AvoidPattern(EnzymeSitePattern(\"BsaI\")),\n",
    "    AvoidPattern(EnzymeSitePattern(\"BsmBI\")),\n",
    "    AvoidPattern(\"TTGACA\"), # E.coli sig70 -35 site\n",
    "    AvoidPattern(\"TATAAT\"), # E.coli sig70 -10 site\n",
    "    AvoidPattern(\"TTGNNNNNNNNNNNNNNNNNNNNTATNNT\"), # E.coli sig70 promoter weak consensus,\n",
    "    AvoidPattern(\"TGGCACGNNNNTTGC\"), # E.coli sig54 promoter consensus\n",
    "    AvoidPattern(\"GAACTNNNNNNNNNNNNNNNNGTCNNA\"), # E.coli sig24 promoter consensus\n",
    "    AvoidPattern(\"AAAGA\"), # RBS\n",
    "    AvoidPattern(\"AGGAGG\"), # Shine-Dalgarno sequence or 2xArg bad codon\n",
    "    AvoidPattern(\"ATG\"), # Start codon\n",
    "    AvoidPattern(\"TTATNCACA\"), # DnaA binding sites\n",
    "    AvoidPattern(\"TGTGANNNNNNTCACANT\"), # CAP binding sites\n",
    "    AvoidPattern(\"NGCTNAGCN\"), # IS10 insertion site\n",
    "    AvoidPattern(\"GGGNNNNNCCC\"), # IS231 insertion site\n",
    "    AvoidPattern(\"(G{3,}[ATGC]{1,7}){3,}G{3,}\"), # G-quadruplex\n",
    "    AvoidPattern(\"GGGG\"), # G-quadruplex\n",
    "    AvoidChanges(location=(0, 6, 1)),\n",
    "    AvoidChanges(location=(len(linker_base_sequence) - 4, len(linker_base_sequence), 1))\n",
    "]\n",
    "problem = DnaOptimizationProblem(\n",
    "    sequence=linker_base_sequence,\n",
    "    constraints=constraints\n",
    ")\n",
    "problem.resolve_constraints()\n",
    "print(problem.constraints_text_summary())\n",
    "print(linker_base_sequence)\n",
    "print(problem.sequence)"
   ],
   "outputs": [
    {
     "output_type": "stream",
     "name": "stderr",
     "text": [
      "                                                                                    "
     ]
    },
    {
     "output_type": "stream",
     "name": "stdout",
     "text": [
      "===> SUCCESS - all constraints evaluations pass\n",
      "✔PASS ┍ EnforceMeltingTemperature[18-39]\n",
      "      │ Tm = 51.9\n",
      "✔PASS ┍ AvoidPattern[0-55](pattern:EcoRI(GAATTC))\n",
      "      │ Passed. Pattern not found !\n",
      "✔PASS ┍ AvoidPattern[0-55](pattern:SpeI(ACTAGT))\n",
      "      │ Passed. Pattern not found !\n",
      "✔PASS ┍ AvoidPattern[0-55](pattern:XbaI(TCTAGA))\n",
      "      │ Passed. Pattern not found !\n",
      "✔PASS ┍ AvoidPattern[0-55](pattern:PstI(CTGCAG))\n",
      "      │ Passed. Pattern not found !\n",
      "✔PASS ┍ AvoidPattern[0-55](pattern:BsaI(GGTCTC))\n",
      "      │ Passed. Pattern not found !\n",
      "✔PASS ┍ AvoidPattern[0-55](pattern:BsmBI(CGTCTC))\n",
      "      │ Passed. Pattern not found !\n",
      "✔PASS ┍ AvoidPattern[0-55](pattern:TTGACA)\n",
      "      │ Passed. Pattern not found !\n",
      "✔PASS ┍ AvoidPattern[0-55](pattern:TATAAT)\n",
      "      │ Passed. Pattern not found !\n",
      "✔PASS ┍ AvoidPattern[0-55](pattern:TTGNNNNNNNNNNNNNNNNNNNNTATNNT)\n",
      "      │ Passed. Pattern not found !\n",
      "✔PASS ┍ AvoidPattern[0-55](pattern:TGGCACGNNNNTTGC)\n",
      "      │ Passed. Pattern not found !\n",
      "✔PASS ┍ AvoidPattern[0-55](pattern:GAACTNNNNNNNNNNNNNNNNGTCNNA)\n",
      "      │ Passed. Pattern not found !\n",
      "✔PASS ┍ AvoidPattern[0-55](pattern:AAAGA)\n",
      "      │ Passed. Pattern not found !\n",
      "✔PASS ┍ AvoidPattern[0-55](pattern:AGGAGG)\n",
      "      │ Passed. Pattern not found !\n",
      "✔PASS ┍ AvoidPattern[0-55](pattern:ATG)\n",
      "      │ Passed. Pattern not found !\n",
      "✔PASS ┍ AvoidPattern[0-55](pattern:TTATNCACA)\n",
      "      │ Passed. Pattern not found !\n",
      "✔PASS ┍ AvoidPattern[0-55](pattern:TGTGANNNNNNTCACANT)\n",
      "      │ Passed. Pattern not found !\n",
      "✔PASS ┍ AvoidPattern[0-55](pattern:NGCTNAGCN)\n",
      "      │ Passed. Pattern not found !\n",
      "✔PASS ┍ AvoidPattern[0-55](pattern:GGGNNNNNCCC)\n",
      "      │ Passed. Pattern not found !\n",
      "✔PASS ┍ AvoidPattern[0-55](pattern:(G{3,}[ATGC]{1,7}){3,}G{3,})\n",
      "      │ Passed. Pattern not found !\n",
      "✔PASS ┍ AvoidPattern[0-55](pattern:GGGG)\n",
      "      │ Passed. Pattern not found !\n",
      "✔PASS ┍ AvoidChanges[0-6(+)]\n",
      "      │ Enforced by nucleotides restrictions\n",
      "✔PASS ┍ AvoidChanges[51-55(+)]\n",
      "      │ Enforced by nucleotides restrictions\n",
      "\n",
      "\n",
      "GGCTCGCTCCACCTGCGTCTATCGTACAGTGCTAAAATGGCAGCAGATAGTGTCC\n",
      "GGCTCGCTCCACCTGCGTCTATCGTACAGTGCGCAAATCGCAGCAGATAGTGTCC\n"
     ]
    },
    {
     "output_type": "stream",
     "name": "stderr",
     "text": []
    }
   ],
   "metadata": {}
  },
  {
   "cell_type": "code",
   "execution_count": 4,
   "source": [
    "# Group together parts and linkers from collections\n",
    "parts_linkers_collections = (\n",
    "    bsb.BASIC_BIOLEGIO_LINKERS[\"v0.1\"].values(),\n",
    "    bsb.BASIC_PROMOTER_PARTS[\"v0.2\"].values(),\n",
    "    bsb.BASIC_SEVA_PARTS[\"v0.1\"].values()\n",
    ")\n",
    "core_parts_linkers = []\n",
    "for part_linker_collection in parts_linkers_collections:\n",
    "    core_parts_linkers += list(part_linker_collection)\n",
    "# Add E.coli MG1655 genome sequence\n",
    "Entrez.email = \"hainesm6@gmail.com\"\n",
    "with Entrez.efetch(db=\"Nucleotide\", id=\"NZ_LR881938.1\", rettype=\"fasta\", retmode=\"text\") as handle:\n",
    "    mg1655 = SeqIO.read(handle, \"fasta\")\n",
    "    seqs = core_parts_linkers + [mg1655]\n",
    "path_to_seqs = Path.cwd().parents[0] / \"sequences\"\n",
    "bsb.export_sequences_to_file(\n",
    "    seqs,\n",
    "    Path.cwd().parents[0] / \"sequences\" / \"alternative_formats\" / \"fasta\" / \"basic_homology_sequences.fa\",\n",
    "    \"fasta\"\n",
    ")\n"
   ],
   "outputs": [],
   "metadata": {}
  },
  {
   "cell_type": "code",
   "execution_count": 5,
   "source": [
    "constraints += [AvoidMatches(15, bowtie_index=path_to_seqs / \"alternative_formats\" / \"bowtie_indexes\" / \"2021-07-22_basic_homology\" / \"basic_homology\", mismatches=1)]\n",
    "problem = DnaOptimizationProblem(\n",
    "    sequence=linker_base_sequence,\n",
    "    constraints=constraints\n",
    ")\n",
    "problem.resolve_constraints()\n",
    "assert problem.sequence[:len(UPSTREAM_SCAR)] == UPSTREAM_SCAR\n",
    "assert problem.sequence[-1*len(DOWNSTREAM_SCAR):] == DOWNSTREAM_SCAR\n",
    "print(problem.constraints_text_summary())\n",
    "print(f\"{'Initial sequence': <20} {linker_base_sequence}\")\n",
    "print(f\"{'Optimised sequence': <20} {problem.sequence}\")\n",
    "print(f\"{'Overhang sequence': <20} {problem.sequence[overhang_indicies[0]:overhang_indicies[1]]}\")"
   ],
   "outputs": [
    {
     "output_type": "stream",
     "name": "stderr",
     "text": [
      "                                                                                             "
     ]
    },
    {
     "output_type": "stream",
     "name": "stdout",
     "text": [
      "===> SUCCESS - all constraints evaluations pass\n",
      "✔PASS ┍ EnforceMeltingTemperature[18-39]\n",
      "      │ Tm = 50.2\n",
      "✔PASS ┍ AvoidPattern[0-55](pattern:EcoRI(GAATTC))\n",
      "      │ Passed. Pattern not found !\n",
      "✔PASS ┍ AvoidPattern[0-55](pattern:SpeI(ACTAGT))\n",
      "      │ Passed. Pattern not found !\n",
      "✔PASS ┍ AvoidPattern[0-55](pattern:XbaI(TCTAGA))\n",
      "      │ Passed. Pattern not found !\n",
      "✔PASS ┍ AvoidPattern[0-55](pattern:PstI(CTGCAG))\n",
      "      │ Passed. Pattern not found !\n",
      "✔PASS ┍ AvoidPattern[0-55](pattern:BsaI(GGTCTC))\n",
      "      │ Passed. Pattern not found !\n",
      "✔PASS ┍ AvoidPattern[0-55](pattern:BsmBI(CGTCTC))\n",
      "      │ Passed. Pattern not found !\n",
      "✔PASS ┍ AvoidPattern[0-55](pattern:TTGACA)\n",
      "      │ Passed. Pattern not found !\n",
      "✔PASS ┍ AvoidPattern[0-55](pattern:TATAAT)\n",
      "      │ Passed. Pattern not found !\n",
      "✔PASS ┍ AvoidPattern[0-55](pattern:TTGNNNNNNNNNNNNNNNNNNNNTATNNT)\n",
      "      │ Passed. Pattern not found !\n",
      "✔PASS ┍ AvoidPattern[0-55](pattern:TGGCACGNNNNTTGC)\n",
      "      │ Passed. Pattern not found !\n",
      "✔PASS ┍ AvoidPattern[0-55](pattern:GAACTNNNNNNNNNNNNNNNNGTCNNA)\n",
      "      │ Passed. Pattern not found !\n",
      "✔PASS ┍ AvoidPattern[0-55](pattern:AAAGA)\n",
      "      │ Passed. Pattern not found !\n",
      "✔PASS ┍ AvoidPattern[0-55](pattern:AGGAGG)\n",
      "      │ Passed. Pattern not found !\n",
      "✔PASS ┍ AvoidPattern[0-55](pattern:ATG)\n",
      "      │ Passed. Pattern not found !\n",
      "✔PASS ┍ AvoidPattern[0-55](pattern:TTATNCACA)\n",
      "      │ Passed. Pattern not found !\n",
      "✔PASS ┍ AvoidPattern[0-55](pattern:TGTGANNNNNNTCACANT)\n",
      "      │ Passed. Pattern not found !\n",
      "✔PASS ┍ AvoidPattern[0-55](pattern:NGCTNAGCN)\n",
      "      │ Passed. Pattern not found !\n",
      "✔PASS ┍ AvoidPattern[0-55](pattern:GGGNNNNNCCC)\n",
      "      │ Passed. Pattern not found !\n",
      "✔PASS ┍ AvoidPattern[0-55](pattern:(G{3,}[ATGC]{1,7}){3,}G{3,})\n",
      "      │ Passed. Pattern not found !\n",
      "✔PASS ┍ AvoidPattern[0-55](pattern:GGGG)\n",
      "      │ Passed. Pattern not found !\n",
      "✔PASS ┍ AvoidChanges[0-6(+)]\n",
      "      │ Enforced by nucleotides restrictions\n",
      "✔PASS ┍ AvoidChanges[51-55(+)]\n",
      "      │ Enforced by nucleotides restrictions\n",
      "✔PASS ┍ AvoidMatches[0-55]\n",
      "      │ Failed - 0 matches at []\n",
      "\n",
      "\n",
      "Initial sequence     GGCTCGCTCCACCTGCGTCTATCGTACAGTGCTAAAATGGCAGCAGATAGTGTCC\n",
      "Optimised sequence   GGCTCGGCCCACTTGTGTGTCTCGTACAATTCTGAGGTCCACACAGATAGTGTCC\n",
      "Overhang sequence    GTCTCGTACAATTCTGAGGTC\n"
     ]
    },
    {
     "output_type": "stream",
     "name": "stderr",
     "text": []
    }
   ],
   "metadata": {
    "tags": []
   }
  },
  {
   "cell_type": "markdown",
   "source": [
    "## Aims and objectives for the cell/s below\n",
    "\n",
    "- Evaluate the generated linker sequence:\n",
    "  - [x] What is the melting temperature of the overlap region?\n",
    "- [x] Generate and export long and adapter linker oligonucleotides for both prefix and suffix linkers?\n",
    "- [ ] Pickle SEVA-BB1 BasicLinker enabling access by other modules.\n"
   ],
   "metadata": {}
  },
  {
   "cell_type": "code",
   "execution_count": 6,
   "source": [
    "print(f\"Estimated melting temperature of the overlap region is {mt.Tm_NN(problem.sequence[overhang_indicies[0]:overhang_indicies[1]], saltcorr=1, Na=0, K=50, Mg=10, Tris=20)}\")\n"
   ],
   "outputs": [
    {
     "output_type": "stream",
     "name": "stdout",
     "text": [
      "Estimated melting temperature of the overlap region is 58.96818949127026\n"
     ]
    }
   ],
   "metadata": {}
  },
  {
   "cell_type": "code",
   "execution_count": 9,
   "source": [
    "bb_linker = bsb.BasicLinker(\n",
    "    seq=Seq(problem.sequence),\n",
    "    id=\"foobar\",\n",
    "    name=\"SEVA-BB1\",\n",
    "    description=\"BASIC backbone linker for assembling SEVA AbR casettes and SEVA Oris.\",\n",
    "    overhang_indicies = (\n",
    "        len(bsb.BasicLinker.UPSTREAM_SCAR) + 12,\n",
    "        len(bsb.BasicLinker.UPSTREAM_SCAR) + 12 + 21\n",
    "    )\n",
    ")\n",
    "bb_linker.id = seqrecord_hexdigest(bb_linker)\n",
    "LINEAR_ANNOTATIONS = DEFAULT_ANNOTATIONS.copy()\n",
    "LINEAR_ANNOTATIONS[\"topology\"] = \"linear\"\n",
    "SeqIO.write(\n",
    "    bb_linker.linker_oligos.all_oligo_seqrecs(),\n",
    "    path_to_seqs / \"alternative_formats\" / \"tsv\" / \"SEVA-BB1-LINKER.tsv\",\n",
    "    \"tab\"\n",
    ")\n",
    "with open(path_to_seqs / \"alternative_formats\" / \"pickles\" / \"SEVA-BB1\", 'wb') as file:\n",
    "    pickle.dump(bb_linker, file)"
   ],
   "outputs": [],
   "metadata": {}
  }
 ]
}