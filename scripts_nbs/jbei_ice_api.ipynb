{
 "cells": [
  {
   "cell_type": "markdown",
   "metadata": {},
   "source": [
    "# Use JBEI-ICE web of registries\n",
    "\n",
    "## Aims and objectives \n",
    "- [x] Return a genbank file from jbei-ice web of registries using the requests library.\n",
    "- [x] Repeat this using icebreaker and a request."
   ]
  },
  {
   "cell_type": "code",
   "execution_count": null,
   "metadata": {},
   "outputs": [],
   "source": [
    "import requests\n",
    "import os\n",
    "import icebreaker\n",
    "import io\n",
    "import basicsynbio as bsb\n",
    "from Bio import SeqIO"
   ]
  },
  {
   "cell_type": "code",
   "execution_count": null,
   "metadata": {
    "tags": []
   },
   "outputs": [],
   "source": [
    "ice_num = \"17337\"\n",
    "file_type = \"original\"\n",
    "ice_url = f\"https://public-registry.jbei.org/rest/file/{ice_num}/sequence/{file_type}\"\n",
    "ice_response = requests.get(\n",
    "    ice_url,\n",
    "    headers={\n",
    "        \"X-ICE-API-Token-Client\": os.environ.get(\"JBEI_ICE_CLIENT\"),\n",
    "        \"X-ICE-API-Token\": os.environ.get(\"JBEI_ICE_TOKEN\"),\n",
    "        \"Cache-Control\": \"no-cache\"\n",
    "    }\n",
    ")\n",
    "print(ice_response.content)\n"
   ]
  },
  {
   "cell_type": "code",
   "execution_count": null,
   "metadata": {
    "tags": []
   },
   "outputs": [],
   "source": [
    "configuration = dict(\n",
    "    root=\"https://public-registry.jbei.org/\",\n",
    "    api_token=os.environ.get(\"JBEI_ICE_TOKEN\"),\n",
    "    api_token_client=os.environ.get(\"JBEI_ICE_CLIENT\")\n",
    ")\n",
    "ice = icebreaker.IceClient(configuration)\n",
    "genbank = ice.request(method=\"GET\", endpoint=f\"file/{ice_num}/sequence/{file_type}\", response_type=\"file\")\n",
    "memory_file = io.StringIO(genbank.decode(\"utf-8\"))\n",
    "print(bsb.seqrec2part(SeqIO.read(memory_file, \"genbank\")))\n",
    "\n"
   ]
  }
 ],
 "metadata": {
  "language_info": {
   "codemirror_mode": {
    "name": "ipython",
    "version": 3
   },
   "file_extension": ".py",
   "mimetype": "text/x-python",
   "name": "python",
   "nbconvert_exporter": "python",
   "pygments_lexer": "ipython3",
   "version": 3
  },
  "orig_nbformat": 2,
  "kernelspec": {
   "name": "python_defaultSpec_1594894860800",
   "display_name": "Python 3.8.2 64-bit"
  }
 },
 "nbformat": 4,
 "nbformat_minor": 2
}