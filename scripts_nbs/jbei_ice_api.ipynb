{
 "cells": [
  {
   "cell_type": "markdown",
   "metadata": {},
   "source": [
    "# Use JBEI-ICE web of registries\n",
    "\n",
    "## Aims and objectives \n",
    "- [x] Return a requests object from jbei-ice web of registries."
   ]
  },
  {
   "cell_type": "code",
   "execution_count": 4,
   "metadata": {
    "tags": []
   },
   "outputs": [
    {
     "output_type": "stream",
     "name": "stdout",
     "text": "b'LOCUS       BASIC_SEVA_68           3120 bp    ds-DNA  circular UNK 13-JUL-2020\\nDEFINITION  BASIC SEVA vector containing Gentamicin resistance marker and pUC\\n            origin of replication..\\nACCESSION   BASIC_SEVA_68\\nVERSION     BASIC_SEVA_68\\nKEYWORDS    .\\nSOURCE      synthetic construct\\n  ORGANISM  synthetic construct other sequences; artificial sequences.\\n            .\\nFEATURES             Location/Qualifiers\\n     regulatory      2008..2112\\n                     /label=\"SEVA_T1\"\\n     misc_feature    187..991\\n                     /label=\"SEVA_Gm\"\\n     misc_feature    2122..2178\\n                     /label=\"LMS\"\\n     regulatory      2222..2233\\n                     /label=\"B0034\"\\n     misc_feature    join(3115..3120,1..51)\\n                     /label=\"LMP\"\\n     regulatory      2982..3110\\n                     /label=\"B0015\"\\n     misc_feature    1065..1993\\n                     /label=\"SEVA_pUC\"\\n     CDS             2241..2945\\n                     /label=\"mScarlett\"\\n     regulatory      58..160\\n                     /label=\"SEVA_T0\"\\n     regulatory      2179..2213\\n                     /label=\"J23106\"\\nORIGIN\\n        1 ggtaagaact cgcacttcgt ggaaacacta ttatctggtg ggtctctgtc cactagtctt\\n       61 ggactcctgt tgatagatcc agtaatgacc tcagaactcc atctggattt gttcagaacg\\n      121 ctcggttgcc gccgggcgtt ttttattggt gagaatccag gggtccccaa taattacgat\\n      181 ttaaatttga cataagcctg ttcggttcgt aaactgtaat gcaagtagcg tatgcgctca\\n      241 cgcaactggt ccagaacctt gaccgaacgc agcggtggta acggcgcagt ggcggttttc\\n      301 atggcttgtt atgactgttt ttttgtacag cctatgcctc gggcatccaa gcagcaagcg\\n      361 cgttacgccg tgggtcgatg tttgatgtta tggagcagca acgatgttac gcagcagcaa\\n      421 cgatgttacg cagcagggca gtcgccctaa aacaaagtta ggtggctcaa gtatgggcat\\n      481 cattcgcaca tgtaggctcg gccctgacca agtcaaatcc atgcgggctg ctcttgatct\\n      541 tttcggtcgt gagttcggag acgtagccac ctactcccaa catcagccgg actccgatta\\n      601 cctcgggaac ttgctccgta gtaagacatt catcgcgctt gctgccttcg accaagaagc\\n      661 ggttgttggc gctctcgcgg cttacgttct gcccaagttt gagcagccgc gtagtgagat\\n      721 ctatatctat gatctcgcag tctccggaga gcaccggagg cagggcattg ccaccgcgct\\n      781 catcaatctc ctcaagcatg aggccaacgc gcttggtgct tatgtgatct acgtgcaagc\\n      841 agattacggt gacgatcccg cagtggctct ctatacaaag ttgggcatac gggaagaagt\\n      901 gatgcacttt gatatcgacc caagtaccgc cacctaacaa ttcgttcaag ccgagatcgg\\n      961 cttcccggcc gcggagttgt tcggtaaatt ggacaacggt cggctcgacc cacgactatt\\n     1021 gactgctctg agaaagttga ttgttacgat tagtccggcc ggccccgtag aaaagatcaa\\n     1081 aggatcttct tgagatcctt tttttctgcg cgtaatctgc tgcttgcaaa caaaaaaacc\\n     1141 accgctacca gcggtggttt gtttgccgga tcaagagcta ccaactcttt ttccgaaggt\\n     1201 aactggcttc agcagagcgc agataccaaa tactgttctt ctagtgtagc cgtagttagg\\n     1261 ccaccacttc aagaactctg tagcaccgcc tacatacctc gctctgctaa tcctgttacc\\n     1321 agtggctgct gccagtggcg ataagtcgtg tcttaccggg ttggactcaa gacgatagtt\\n     1381 accggataag gcgcagcggt cgggctgaac ggggggttcg tgcacacagc ccagcttgga\\n     1441 gcgaacgacc tacaccgaac tgagatacct acagcgtgag ctttgagaaa gcgccacgct\\n     1501 tcccgaaggg agaaaggcgg acaggtatcc ggtaagcggc agggtcggaa caggagagcg\\n     1561 cacgagggag cttccagggg gaaacgcctg gtatctttat agtcctgtcg ggtttcgcca\\n     1621 cctctgactt gagcgtcgat ttttgtgatg ctcgtcaggg gggcggagcc tatggaaaaa\\n     1681 cgccagcaac gcggcctttt tacggttcct ggccttttgc tggccttttg ctcacatgtt\\n     1741 ctttcctgcg ttatcccctg attctgtgga taaccgtatt accgcctttg agtgagctga\\n     1801 taccgctcgc cgcagccgaa cgaccgagcg cagcgagtca gtgagcgagg aagcggaaga\\n     1861 gcgcccaata cgcaaaccgc ctctccccgc gcgttggccg attcattaat gcagctggca\\n     1921 cgacaggttt cccgactgga aagcgggcag tgagcgcaac gcaattaatg tgagttagct\\n     1981 cactcattag gcaggcgcgc ccagctgtct agggcggcgg atttgtccta ctcaggagag\\n     2041 cgttcaccga caaacaacag ataaaacgaa aggcccagtc tttcgactga gcctttcgtt\\n     2101 ttatttgatg cctttaatta aggctcggga gacctatcgg taataacagt ccaatctggt\\n     2161 gtaacttcgg aatcgtcctt tacggctagc tcagtcctag gtatagtgct agctactagt\\n     2221 gaaagaggag aaatactagt atggttagca aaggcgaggc ggttatcaag gagtttatgc\\n     2281 gttttaaggt tcacatggag ggtagcatga atggtcacga gttcgagatc gagggtgaag\\n     2341 gcgagggtcg tccgtacgaa ggcacccaga ccgcgaagct gaaagtgacc aagggtggcc\\n     2401 cgctgccgtt cagctgggac atcctgagcc cgcagttcat gtatggcagc cgtgcgttta\\n     2461 ccaaacaccc ggcggacatt ccggattact ataagcaaag cttcccggaa ggttttaaat\\n     2521 gggagcgtgt tatgaacttc gaagatggtg gcgcggtgac cgttacccag gacaccagcc\\n     2581 tggaggatgg caccctgatt tacaaggtga aactgcgtgg caccaacttt ccgccggatg\\n     2641 gtccggttat gcagaagaaa acgatgggtt gggaagcgag caccgagcgt ctgtatccgg\\n     2701 aagatggcgt gctgaagggt gatatcaaaa tggcgctgcg tctgaaggac ggtggccgtt\\n     2761 acctggcgga ttttaagacc acctataaag cgaagaaacc ggtgcaaatg ccgggtgcgt\\n     2821 acaacgttga ccgtaaactg gatattacca gccacaacga ggattatacc gtggttgagc\\n     2881 aatatgagcg tagcgagggt cgccacagca ccggcggcat ggacgaactg tataagggat\\n     2941 cctaataacg ctgatagtgc tagtgtagat cgctactaga gccaggcatc aaataaaacg\\n     3001 aaaggctcag tcgaaagact gggcctttcg ttttatctgt tgtttgtcgg tgaacgctct\\n     3061 ctactagagt cacactggct caccttcggg tgggcctttc tgcgtttata tactggctcg\\n//\\n'\n"
    }
   ],
   "source": [
    "import requests\n",
    "import os\n",
    "\n",
    "ice_num = \"17337\"\n",
    "file_type = \"original\"\n",
    "ice_url = f\"https://public-registry.jbei.org/rest/file/{ice_num}/sequence/{file_type}\"\n",
    "ice_response = requests.get(\n",
    "    ice_url,\n",
    "    headers={\n",
    "        \"X-ICE-API-Token-Client\": os.environ.get(\"JBEI_ICE_CLIENT\"),\n",
    "        \"X-ICE-API-Token\": os.environ.get(\"JBEI_ICE_TOKEN\"),\n",
    "        \"Cache-Control\": \"no-cache\"\n",
    "    }\n",
    ")\n",
    "print(ice_response.content)\n"
   ]
  }
 ],
 "metadata": {
  "language_info": {
   "codemirror_mode": {
    "name": "ipython",
    "version": 3
   },
   "file_extension": ".py",
   "mimetype": "text/x-python",
   "name": "python",
   "nbconvert_exporter": "python",
   "pygments_lexer": "ipython3",
   "version": 3
  },
  "orig_nbformat": 2,
  "kernelspec": {
   "name": "python_defaultSpec_1594829599157",
   "display_name": "Python 3.8.2 64-bit"
  }
 },
 "nbformat": 4,
 "nbformat_minor": 2
}