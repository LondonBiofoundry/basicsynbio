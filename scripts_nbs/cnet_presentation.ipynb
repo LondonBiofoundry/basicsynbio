{
 "cells": [
  {
   "cell_type": "markdown",
   "metadata": {},
   "source": [
    "## Objective\n",
    "Import parts and linkers using various methods"
   ]
  },
  {
   "cell_type": "code",
   "execution_count": 4,
   "metadata": {},
   "outputs": [],
   "source": [
    "import basicsynbio as bsb\n",
    "import os\n",
    "from Bio import SeqIO\n",
    "from pathlib import Path\n",
    "\n",
    "# package objects\n",
    "linkers = [bsb.BIOLEGIO_DICT[linker] for linker in [\"LMP\", \"UTR1-RBS2\", \"LMS\"]]\n",
    "\n",
    "# JBEI-ICE registry entries\n",
    "ice_client = os.environ.get(\"JBEI_ICE_CLIENT\")    \n",
    "ice_token = os.environ.get(\"JBEI_ICE_TOKEN\")\n",
    "part_id_nums = [\"17338\"]\n",
    "ice_parts = bsb.import_ice_parts(\n",
    "    {\"client\": ice_client, \"token\": ice_token},\n",
    "    *part_id_nums,   \n",
    ")\n",
    "backbone = next(ice_parts)\n",
    "\n",
    "# BioPython.SeqRecord.SeqRecord object\n",
    "dir_to_genbank = Path.cwd().parent / \"sequences\" / \"genbank_files\"\n",
    "seqrecs = SeqIO.parse(dir_to_genbank / \"BASIC_promoter_library.gb\", \"genbank\")\n",
    "promoter = bsb.seqrec2part(next(seqrecs), add_i_seqs=False)\n",
    "\n",
    "# local files\n",
    "sfgfp = bsb.import_part(dir_to_genbank / \"misc_BASIC\" / \"BASIC_sfGFP_ORF.1.gb\", \"genbank\")"
   ]
  },
  {
   "cell_type": "markdown",
   "metadata": {},
   "source": [
    "## Objective\n",
    "\n",
    "Assemble parts and linkers and export to a genbank file."
   ]
  },
  {
   "cell_type": "code",
   "execution_count": 5,
   "metadata": {},
   "outputs": [],
   "source": [
    "assembly = bsb.BasicAssembly(\n",
    "    linkers[0],\n",
    "    promoter,\n",
    "    linkers[1],\n",
    "    sfgfp,\n",
    "    linkers[2],\n",
    "    backbone\n",
    ")\n",
    "bsb.export_to_file(assembly, dir_to_genbank / \"misc_BASIC\" / \"example.gb\")"
   ]
  }
 ],
 "metadata": {
  "language_info": {
   "codemirror_mode": {
    "name": "ipython",
    "version": 3
   },
   "file_extension": ".py",
   "mimetype": "text/x-python",
   "name": "python",
   "nbconvert_exporter": "python",
   "pygments_lexer": "ipython3",
   "version": 3
  },
  "orig_nbformat": 2,
  "kernelspec": {
   "name": "python_defaultSpec_1595269549431",
   "display_name": "Python 3.8.2 64-bit ('basicsynbio': venv)"
  }
 },
 "nbformat": 4,
 "nbformat_minor": 2
}