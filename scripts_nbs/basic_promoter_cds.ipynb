{
 "metadata": {
  "language_info": {
   "codemirror_mode": {
    "name": "ipython",
    "version": 3
   },
   "file_extension": ".py",
   "mimetype": "text/x-python",
   "name": "python",
   "nbconvert_exporter": "python",
   "pygments_lexer": "ipython3",
   "version": 3
  },
  "orig_nbformat": 2,
  "kernelspec": {
   "name": "python_defaultSpec_1595497228090",
   "display_name": "Python 3.8.2 64-bit ('basicsynbio': venv)"
  }
 },
 "nbformat": 4,
 "nbformat_minor": 2,
 "cells": [
  {
   "cell_type": "markdown",
   "metadata": {},
   "source": [
    "# BASIC promoter and CDS genbank files\n",
    "\n",
    "## Aims and objectives\n",
    "\n",
    "for relevant promoters and CDSs:\n",
    "- [x] Generate FASTA sequences.\n",
    "- [x] Upload to Benchling.\n",
    "- [x] Make benchling feature libraries and auto-annotate.\n",
    "- [x] Export annotated genbank files.\n",
    "- [x] Assemble each into BASIC_SEVA_18, remove color annotations and add meta-data.\n",
    "- [x] Consolodate parts into a single genbank file in parts_linkers sub-package.\n",
    "- [x] Generate dict for users.\n"
   ]
  },
  {
   "cell_type": "code",
   "execution_count": 1,
   "metadata": {},
   "outputs": [
    {
     "output_type": "execute_result",
     "data": {
      "text/plain": "63"
     },
     "metadata": {},
     "execution_count": 1
    }
   ],
   "source": [
    "from Bio import SeqIO\n",
    "from pathlib import Path\n",
    "\n",
    "DIR_MISC_BASIC = Path.cwd().parent / \"sequences\" / \"genbank_files\" / \"misc_BASIC\"\n",
    "promoters = SeqIO.parse(DIR_MISC_BASIC /  \"initial_BASIC_promoters.gb\", \"genbank\")\n",
    "SeqIO.write(promoters, DIR_MISC_BASIC / \"initial_BASIC_promoters.fasta\", \"fasta\")"
   ]
  },
  {
   "cell_type": "markdown",
   "metadata": {},
   "source": [
    "## Objectives for cell below\n",
    "\n",
    "Complete promoters according to the overal aims/objectives."
   ]
  },
  {
   "cell_type": "code",
   "execution_count": 4,
   "metadata": {
    "tags": []
   },
   "outputs": [],
   "source": [
    "import basicsynbio as bsb\n",
    "from basicsynbio.utils import (\n",
    "    only_label_feature,\n",
    "    all_feature_values\n",
    ")\n",
    "import re\n",
    "\n",
    "\n",
    "def filter_list_w_re(regular_expression, mylist: list):\n",
    "    \"Filters the list using the given regular expression.\"\n",
    "    r = re.compile(regular_expression)\n",
    "    return filter(r.match, mylist)\n",
    "\n",
    "\n",
    "def process_promoters(promoters):\n",
    "    \"\"\"Returns promoters as required by objectives.\"\"\"\n",
    "    for promoter in promoters:\n",
    "        promoter = only_label_feature(promoter)\n",
    "        promoter.all_feature_values = all_feature_values(promoter)\n",
    "        promoter.terminator = next(filter_list_w_re(\"Terminator.*\", promoter.all_feature_values))\n",
    "        try:\n",
    "            promoter.promoter = next(filter_list_w_re(\"J23.*\", promoter.all_feature_values))\n",
    "        except StopIteration:\n",
    "            for promoter_id in [\"Phlf\", \"CymR\", \"TetR\", \"VanR\", \"LuxR\", \"CinR\", \"LacI\", \"AraC\", \"BetI\", \"Ttg\", \"SaITTC\", \"T7_100\", \"T7_52\", \"T7_50\", \"T7_25\"]:\n",
    "                if promoter_id in promoter.all_feature_values:\n",
    "                    promoter.promoter = promoter_id\n",
    "        promoter.riboj = next(filter_list_w_re(\"Ribo.*\", promoter.all_feature_values))\n",
    "        promoter_part = bsb.BasicAssembly(\n",
    "            bsb.BIOLEGIO_LINKERS[\"LMP\"],\n",
    "            promoter,\n",
    "            bsb.BIOLEGIO_LINKERS[\"LMS\"],\n",
    "            bsb.BSEVA_PARTS[\"18\"]\n",
    "        )\n",
    "        promoter_part = promoter_part.return_part(\n",
    "            id=promoter.id,\n",
    "            name=f\"{promoter.id}_{promoter.terminator}_{promoter.promoter}_{promoter.riboj}\",\n",
    "            description=f\"{promoter.id} stored in BASIC_SEVA_18\"\n",
    "        )\n",
    "        yield promoter_part\n",
    "\n",
    "\n",
    "annotated_promoters = bsb.import_parts(DIR_MISC_BASIC / \"annotated_BASIC_promoters.gb\", \"genbank\")\n",
    "processed_promoters = process_promoters(annotated_promoters)\n",
    "DIR_PARTS_LINKERS = Path.cwd().parent / \"basicsynbio\" / \"parts_linkers\"\n",
    "bsb.export_to_file(\n",
    "    processed_promoters,\n",
    "    DIR_PARTS_LINKERS / \"BASIC_promoter_collection.gb\"\n",
    ")\n",
    "\n",
    "\n"
   ]
  },
  {
   "cell_type": "markdown",
   "metadata": {},
   "source": [
    "## Objectives for cell below\n",
    "\n",
    "Complete CDSs for overal aim and objectives"
   ]
  },
  {
   "cell_type": "code",
   "execution_count": 8,
   "metadata": {},
   "outputs": [],
   "source": [
    "from basicsynbio.utils import _easy_seqrec, feature_from_qualifier\n",
    "\n",
    "\n",
    "class CDSPart():\n",
    "    def __init__(self, id, handle_to_parent):\n",
    "        self.id = id\n",
    "        self.handle_to_parent = handle_to_parent\n",
    "        self.part = bsb.import_part(self.handle_to_parent, \"genbank\")\n",
    "        self.cds_part = self.make_part()\n",
    "\n",
    "    def make_part(self):\n",
    "        try:\n",
    "            cds_feature = feature_from_qualifier(self.part, \"gene\", [self.id])\n",
    "            cds_seq = cds_feature.extract(self.part.seq)\n",
    "        except KeyError:\n",
    "            print(f\"{self.id} was not found in the corresponding BasicPart.\")\n",
    "        cds_seqrec = _easy_seqrec(\n",
    "            str(cds_seq),\n",
    "            self.id,\n",
    "            annotation_type=\"CDS\",\n",
    "            label=[self.id]\n",
    "        )\n",
    "        return bsb.seqrec2part(cds_seqrec, add_i_seqs=True)\n",
    "\n",
    "    def stored_part(self, backbone=bsb.BSEVA_PARTS[\"18\"]):\n",
    "        cds_assembly = bsb.BasicAssembly(\n",
    "            backbone,\n",
    "            bsb.BIOLEGIO_LINKERS[\"LMP\"],\n",
    "            self.cds_part,\n",
    "            bsb.BIOLEGIO_LINKERS[\"LMS\"]\n",
    "        )\n",
    "        stored_part = cds_assembly.return_part(\n",
    "            self.id,\n",
    "            description=f\"{self.id} stored in {backbone.id}\",\n",
    "            name=f\"BASIC_{self.id}_CDS\"\n",
    "        )\n",
    "        return stored_part\n",
    "\n",
    "\n",
    "cdss = [\n",
    "    CDSPart(\"sfGFP\", DIR_MISC_BASIC / \"BASIC_sfGFP_ORF.1.gb\"),\n",
    "    CDSPart(\"mCherry\", DIR_MISC_BASIC / \"BASIC_mCherry_ORF.1.gb\"),\n",
    "    CDSPart(\"mTagBFP2\", DIR_MISC_BASIC / \"BASIC_mTagBFP2_ORF.1.gb\")\n",
    "]\n",
    "bsb.export_to_file(\n",
    "    (cds.stored_part() for cds in cdss),\n",
    "    DIR_PARTS_LINKERS / \"BASIC_CDS_collection.gb\"\n",
    ")\n",
    "\n"
   ]
  }
 ]
}