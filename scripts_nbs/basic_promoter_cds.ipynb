{
 "cells": [
  {
   "cell_type": "markdown",
   "metadata": {},
   "source": [
    "# BASIC promoter and CDS genbank files\n",
    "\n",
    "## Aims and objectives\n",
    "\n",
    "for relevant promoters and CDSs:\n",
    "- [x] Generate FASTA sequences.\n",
    "- [x] Upload to Benchling.\n",
    "- [x] Make benchling feature libraries and auto-annotate.\n",
    "- [x] Export annotated genbank files.\n",
    "- [x] Assemble each into BASIC_SEVA_18, remove color annotations and add meta-data.\n",
    "- [x] Consolodate parts into a single genbank file in parts_linkers sub-package.\n",
    "- [x] Generate dict for users.\n",
    "- [x] Generate v0.2 BASIC_PROMOTER_PARTS gb file containing only the original 60 promoters.\n",
    "- [ ] Generate v0.3 BASIC_PROMOTER_PARTS and v0.2 BASIC_CDS_PARTS which are not in a storage vector.\n"
   ]
  },
  {
   "cell_type": "code",
   "execution_count": 8,
   "metadata": {},
   "outputs": [
    {
     "data": {
      "text/plain": [
       "63"
      ]
     },
     "execution_count": 8,
     "metadata": {},
     "output_type": "execute_result"
    }
   ],
   "source": [
    "from Bio import SeqIO\n",
    "from pathlib import Path\n",
    "\n",
    "DIR_MISC_BASIC = Path.cwd().parent / \"sequences\" / \"genbank_files\" / \"misc_BASIC\"\n",
    "promoters = SeqIO.parse(DIR_MISC_BASIC /  \"initial_BASIC_promoters.gb\", \"genbank\")\n",
    "SeqIO.write(promoters, DIR_MISC_BASIC / \"initial_BASIC_promoters.fasta\", \"fasta\")"
   ]
  },
  {
   "cell_type": "markdown",
   "metadata": {},
   "source": [
    "## Objectives for cell below\n",
    "\n",
    "Complete promoters according to the overal aims/objectives."
   ]
  },
  {
   "cell_type": "code",
   "execution_count": 11,
   "metadata": {
    "tags": []
   },
   "outputs": [],
   "source": [
    "import basicsynbio as bsb\n",
    "from basicsynbio.utils import (\n",
    "    only_label_feature,\n",
    "    all_feature_values\n",
    ")\n",
    "import re\n",
    "\n",
    "\n",
    "def filter_list_w_re(regular_expression, mylist: list):\n",
    "    \"Filters the list using the given regular expression.\"\n",
    "    r = re.compile(regular_expression)\n",
    "    return filter(r.match, mylist)\n",
    "\n",
    "\n",
    "def assign_promoter_elements(promoters):\n",
    "    \"\"\"Assign promoter elements as attributes.\"\"\"\n",
    "    for promoter in promoters:\n",
    "        promoter = only_label_feature(promoter)\n",
    "        promoter.all_feature_values = all_feature_values(promoter)\n",
    "        promoter.terminator = next(filter_list_w_re(\"Terminator.*\", promoter.all_feature_values))\n",
    "        try:\n",
    "            promoter.promoter = next(filter_list_w_re(\"J23.*\", promoter.all_feature_values))\n",
    "        except StopIteration:\n",
    "            for promoter_id in [\"Phlf\", \"CymR\", \"TetR\", \"VanR\", \"LuxR\", \"CinR\", \"LacI\", \"AraC\", \"BetI\", \"Ttg\", \"SaITTC\", \"T7_100\", \"T7_52\", \"T7_50\", \"T7_25\"]:\n",
    "                if promoter_id in promoter.all_feature_values:\n",
    "                    promoter.promoter = promoter_id\n",
    "        promoter.riboj = next(filter_list_w_re(\"Ribo.*\", promoter.all_feature_values))\n",
    "        yield promoter\n",
    "\n",
    "\n",
    "def process_stored_promoters(promoters):\n",
    "    \"\"\"Returns promoters as required by objectives.\"\"\"\n",
    "    for promoter in promoters:\n",
    "        promoter_part = bsb.BasicAssembly(\n",
    "            promoter.id,\n",
    "            bsb.BASIC_BIOLEGIO_LINKERS[\"v0.1\"][\"LMP\"],\n",
    "            promoter,\n",
    "            bsb.BASIC_BIOLEGIO_LINKERS[\"v0.1\"][\"LMS\"],\n",
    "            bsb.BASIC_SEVA_PARTS[\"v0.1\"][\"18\"]\n",
    "        )\n",
    "        promoter_part = promoter_part.return_part(\n",
    "            id=promoter.id,\n",
    "            name=f\"{promoter.id}_{promoter.terminator}_{promoter.promoter}_{promoter.riboj}\",\n",
    "            description=f\"{promoter.id} stored in BASIC_SEVA_18. The BASIC insulated promoter {promoter.id}, contains a {promoter.promoter} promoter with an upstream {promoter.terminator} and a downstream {promoter.riboj}\"\n",
    "        )\n",
    "        yield promoter_part\n",
    "\n",
    "\n",
    "def process_unstored_promoters(promoters):\n",
    "    \"\"\"Returns promoters as required by objectives without storing in a vector.\"\"\"\n",
    "    for promoter in promoters:\n",
    "        promoter_part = bsb.seqrec2part(promoter)\n",
    "        promoter_part.name = f\"{promoter.id}_{promoter.terminator}_{promoter.promoter}_{promoter.riboj}\"\n",
    "        promoter_part.description = f\"The BASIC insulated promoter {promoter.id}, contains a {promoter.promoter} promoter with an upstream {promoter.terminator} and a downstream {promoter.riboj}\"\n",
    "        yield promoter_part\n",
    "\n",
    "\n",
    "def bpromoter_num(seqrec):\n",
    "    \"\"\":return: number of the bseva backbone.\"\"\"\n",
    "    return int(seqrec.id[3:])\n",
    "\n",
    "\n",
    "annotated_promoters = bsb.import_parts(DIR_MISC_BASIC / \"annotated_BASIC_promoters.gb\", \"genbank\")\n",
    "assigned_promoters = list(assign_promoter_elements(annotated_promoters))\n",
    "\n",
    "stored_promoters = list(process_stored_promoters(assigned_promoters))\n",
    "stored_promoters.sort(key=bpromoter_num)\n",
    "DIR_PARTS_LINKERS = Path.cwd().parent / \"basicsynbio\" / \"parts_linkers\"\n",
    "# bsb.export_sequences_to_file(\n",
    "#     processed_promoters,\n",
    "#     DIR_PARTS_LINKERS / \"BASIC_promoter_collection_v01.gb\"\n",
    "# )\n",
    "\n",
    "unstored_promoters = list(process_unstored_promoters(assigned_promoters))\n",
    "unstored_promoters.sort(key=bpromoter_num)"
   ]
  },
  {
   "cell_type": "markdown",
   "metadata": {},
   "source": [
    "## Objectives for cell/s below\n",
    "\n",
    "- Make gb file for `BASIC_PROMOTER_COLLECTION[\"v0.2\"]`.\n",
    "- Make gb file for `BASIC_PROMOTER_COLLECTION[\"v0.3\"]`."
   ]
  },
  {
   "cell_type": "code",
   "execution_count": 12,
   "metadata": {},
   "outputs": [
    {
     "name": "stderr",
     "output_type": "stream",
     "text": [
      "/home/hainesm6/.pyenv/versions/basicsynbio/lib/python3.8/site-packages/Bio/SeqIO/InsdcIO.py:726: BiopythonWarning: Increasing length of locus line to allow long name. This will result in fields that are not in usual positions.\n",
      "  warnings.warn(\n"
     ]
    }
   ],
   "source": [
    "stored_promoters_v02 = stored_promoters[:-3]\n",
    "assert len(stored_promoters_v02) == 60\n",
    "# bsb.export_sequences_to_file(\n",
    "#     processed_promoters_v02,\n",
    "#     DIR_PARTS_LINKERS / \"BASIC_promoter_collection_v02.gb\"\n",
    "# )\n",
    "unstored_promoters = unstored_promoters[:-3]\n",
    "assert len(unstored_promoters) == 60\n",
    "bsb.export_sequences_to_file(\n",
    "    unstored_promoters,\n",
    "    DIR_PARTS_LINKERS / \"BASIC_promoter_collection_v03.gb\"\n",
    ")"
   ]
  },
  {
   "cell_type": "markdown",
   "metadata": {},
   "source": [
    "## Objectives for cell below\n",
    "\n",
    "Complete CDSs for overal aim and objectives"
   ]
  },
  {
   "cell_type": "code",
   "execution_count": 16,
   "metadata": {},
   "outputs": [],
   "source": [
    "from basicsynbio.utils import _easy_seqrec, feature_from_qualifier\n",
    "\n",
    "\n",
    "class CDSPart():\n",
    "    def __init__(self, id, handle_to_parent):\n",
    "        self.id = id\n",
    "        self.handle_to_parent = handle_to_parent\n",
    "        self.part = bsb.import_part(self.handle_to_parent, \"genbank\")\n",
    "        self.cds_part = self.make_part()\n",
    "\n",
    "    def make_part(self):\n",
    "        try:\n",
    "            cds_feature = feature_from_qualifier(self.part, \"gene\", [self.id])\n",
    "            cds_seq = cds_feature.extract(self.part.seq)\n",
    "        except KeyError:\n",
    "            print(f\"{self.id} was not found in the corresponding BasicPart.\")\n",
    "        cds_seqrec = _easy_seqrec(\n",
    "            str(cds_seq),\n",
    "            self.id,\n",
    "            annotation_type=\"CDS\",\n",
    "            label=[self.id]\n",
    "        )\n",
    "        return bsb.seqrec2part(cds_seqrec, add_i_seqs=True)\n",
    "\n",
    "    def stored_part(self, backbone=bsb.BASIC_SEVA_PARTS[\"v0.1\"][\"18\"]):\n",
    "        cds_assembly = bsb.BasicAssembly(\n",
    "            self.id,\n",
    "            backbone,\n",
    "            bsb.BASIC_BIOLEGIO_LINKERS[\"v0.1\"][\"LMP\"],\n",
    "            self.cds_part,\n",
    "            bsb.BASIC_BIOLEGIO_LINKERS[\"v0.1\"][\"LMS\"]\n",
    "        )\n",
    "        stored_part = cds_assembly.return_part(\n",
    "            id=self.id,\n",
    "            description=f\"{self.id} stored in {backbone.name}\",\n",
    "            name=f\"BASIC_{self.id}_CDS\"\n",
    "        )\n",
    "        return stored_part\n",
    "\n",
    "    def unstored_part(self):\n",
    "        unstored_part = self.part.basic_slice()\n",
    "        unstored_part = bsb.seqrec2part(\n",
    "            unstored_part,\n",
    "            add_i_seqs=True\n",
    "        )\n",
    "        unstored_part.id = self.id\n",
    "        unstored_part.name=f\"BASIC_{self.id}_CDS\"\n",
    "        unstored_part.description=\"\"\n",
    "        return unstored_part\n",
    "\n",
    "\n",
    "cdss = [\n",
    "    CDSPart(\"sfGFP\", DIR_MISC_BASIC / \"BASIC_sfGFP_ORF.1.gb\"),\n",
    "    CDSPart(\"mCherry\", DIR_MISC_BASIC / \"BASIC_mCherry_ORF.1.gb\"),\n",
    "    CDSPart(\"mTagBFP2\", DIR_MISC_BASIC / \"BASIC_mTagBFP2_ORF.1.gb\")\n",
    "]\n",
    "# bsb.export_sequences_to_file(\n",
    "#     (cds.stored_part() for cds in cdss),\n",
    "#     DIR_PARTS_LINKERS / \"BASIC_CDS_collection_v01.gb\"\n",
    "# )\n",
    "bsb.export_sequences_to_file(\n",
    "    (cds.unstored_part() for cds in cdss),\n",
    "    DIR_PARTS_LINKERS / \"BASIC_CDS_collection_v02.gb\"\n",
    ")\n",
    "\n"
   ]
  }
 ],
 "metadata": {
  "interpreter": {
   "hash": "83f92c1be44bac50466b60487936925004814ca6656ec44417072e5cf88a8248"
  },
  "kernelspec": {
   "display_name": "Python 3.8.5 64-bit ('basicsynbio': pyenv)",
   "language": "python",
   "name": "python3"
  },
  "language_info": {
   "codemirror_mode": {
    "name": "ipython",
    "version": 3
   },
   "file_extension": ".py",
   "mimetype": "text/x-python",
   "name": "python",
   "nbconvert_exporter": "python",
   "pygments_lexer": "ipython3",
   "version": "3.8.12"
  },
  "metadata": {
   "interpreter": {
    "hash": "57f97546b8e059ecb785e5a83a832483957e404968430921b0ed5f9de2bd71dc"
   }
  },
  "orig_nbformat": 2
 },
 "nbformat": 4,
 "nbformat_minor": 2
}
